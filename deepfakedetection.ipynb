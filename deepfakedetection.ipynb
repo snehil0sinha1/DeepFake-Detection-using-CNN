{
  "nbformat": 4,
  "nbformat_minor": 0,
  "metadata": {
    "colab": {
      "provenance": []
    },
    "kernelspec": {
      "name": "python3",
      "display_name": "Python 3"
    },
    "language_info": {
      "name": "python"
    },
    "accelerator": "GPU",
    "widgets": {
      "application/vnd.jupyter.widget-state+json": {
        "78431e82cd16432db045ffd81458cff7": {
          "model_module": "@jupyter-widgets/controls",
          "model_name": "HBoxModel",
          "model_module_version": "1.5.0",
          "state": {
            "_view_name": "HBoxView",
            "_dom_classes": [],
            "_model_name": "HBoxModel",
            "_view_module": "@jupyter-widgets/controls",
            "_model_module_version": "1.5.0",
            "_view_count": null,
            "_view_module_version": "1.5.0",
            "box_style": "",
            "layout": "IPY_MODEL_e610ea16eb6b48c384ae9c738b6f2da1",
            "_model_module": "@jupyter-widgets/controls",
            "children": [
              "IPY_MODEL_d8daf2ea9bec458ab46b804d924f9f91",
              "IPY_MODEL_615c2552211743c8b96ff6188bba7eb2",
              "IPY_MODEL_6cba952b22cf4cf8872d25028a5a7f1b"
            ]
          }
        },
        "e610ea16eb6b48c384ae9c738b6f2da1": {
          "model_module": "@jupyter-widgets/base",
          "model_name": "LayoutModel",
          "model_module_version": "1.2.0",
          "state": {
            "_view_name": "LayoutView",
            "grid_template_rows": null,
            "right": null,
            "justify_content": null,
            "_view_module": "@jupyter-widgets/base",
            "overflow": null,
            "_model_module_version": "1.2.0",
            "_view_count": null,
            "flex_flow": null,
            "width": null,
            "min_width": null,
            "border": null,
            "align_items": null,
            "bottom": null,
            "_model_module": "@jupyter-widgets/base",
            "top": null,
            "grid_column": null,
            "overflow_y": null,
            "overflow_x": null,
            "grid_auto_flow": null,
            "grid_area": null,
            "grid_template_columns": null,
            "flex": null,
            "_model_name": "LayoutModel",
            "justify_items": null,
            "grid_row": null,
            "max_height": null,
            "align_content": null,
            "visibility": null,
            "align_self": null,
            "height": null,
            "min_height": null,
            "padding": null,
            "grid_auto_rows": null,
            "grid_gap": null,
            "max_width": null,
            "order": null,
            "_view_module_version": "1.2.0",
            "grid_template_areas": null,
            "object_position": null,
            "object_fit": null,
            "grid_auto_columns": null,
            "margin": null,
            "display": null,
            "left": null
          }
        },
        "d8daf2ea9bec458ab46b804d924f9f91": {
          "model_module": "@jupyter-widgets/controls",
          "model_name": "HTMLModel",
          "model_module_version": "1.5.0",
          "state": {
            "_view_name": "HTMLView",
            "style": "IPY_MODEL_dd47377d44df42eb8368e02b1ef3e51e",
            "_dom_classes": [],
            "description": "",
            "_model_name": "HTMLModel",
            "placeholder": "​",
            "_view_module": "@jupyter-widgets/controls",
            "_model_module_version": "1.5.0",
            "value": "100%",
            "_view_count": null,
            "_view_module_version": "1.5.0",
            "description_tooltip": null,
            "_model_module": "@jupyter-widgets/controls",
            "layout": "IPY_MODEL_0b54cdb2a76246b78f07b783c151b438"
          }
        },
        "615c2552211743c8b96ff6188bba7eb2": {
          "model_module": "@jupyter-widgets/controls",
          "model_name": "FloatProgressModel",
          "model_module_version": "1.5.0",
          "state": {
            "_view_name": "ProgressView",
            "style": "IPY_MODEL_bdd823b44aca42dbb85bd4b9cc3a8c01",
            "_dom_classes": [],
            "description": "",
            "_model_name": "FloatProgressModel",
            "bar_style": "success",
            "max": 100441675,
            "_view_module": "@jupyter-widgets/controls",
            "_model_module_version": "1.5.0",
            "value": 100441675,
            "_view_count": null,
            "_view_module_version": "1.5.0",
            "orientation": "horizontal",
            "min": 0,
            "description_tooltip": null,
            "_model_module": "@jupyter-widgets/controls",
            "layout": "IPY_MODEL_98722883d21d44dabc47963b570eb100"
          }
        },
        "6cba952b22cf4cf8872d25028a5a7f1b": {
          "model_module": "@jupyter-widgets/controls",
          "model_name": "HTMLModel",
          "model_module_version": "1.5.0",
          "state": {
            "_view_name": "HTMLView",
            "style": "IPY_MODEL_af826485faa34d9e94b48240b82491be",
            "_dom_classes": [],
            "description": "",
            "_model_name": "HTMLModel",
            "placeholder": "​",
            "_view_module": "@jupyter-widgets/controls",
            "_model_module_version": "1.5.0",
            "value": " 95.8M/95.8M [00:02&lt;00:00, 35.5MB/s]",
            "_view_count": null,
            "_view_module_version": "1.5.0",
            "description_tooltip": null,
            "_model_module": "@jupyter-widgets/controls",
            "layout": "IPY_MODEL_aa69cd5c235843c89a0f3d7d0be1bb9d"
          }
        },
        "dd47377d44df42eb8368e02b1ef3e51e": {
          "model_module": "@jupyter-widgets/controls",
          "model_name": "DescriptionStyleModel",
          "model_module_version": "1.5.0",
          "state": {
            "_view_name": "StyleView",
            "_model_name": "DescriptionStyleModel",
            "description_width": "",
            "_view_module": "@jupyter-widgets/base",
            "_model_module_version": "1.5.0",
            "_view_count": null,
            "_view_module_version": "1.2.0",
            "_model_module": "@jupyter-widgets/controls"
          }
        },
        "0b54cdb2a76246b78f07b783c151b438": {
          "model_module": "@jupyter-widgets/base",
          "model_name": "LayoutModel",
          "model_module_version": "1.2.0",
          "state": {
            "_view_name": "LayoutView",
            "grid_template_rows": null,
            "right": null,
            "justify_content": null,
            "_view_module": "@jupyter-widgets/base",
            "overflow": null,
            "_model_module_version": "1.2.0",
            "_view_count": null,
            "flex_flow": null,
            "width": null,
            "min_width": null,
            "border": null,
            "align_items": null,
            "bottom": null,
            "_model_module": "@jupyter-widgets/base",
            "top": null,
            "grid_column": null,
            "overflow_y": null,
            "overflow_x": null,
            "grid_auto_flow": null,
            "grid_area": null,
            "grid_template_columns": null,
            "flex": null,
            "_model_name": "LayoutModel",
            "justify_items": null,
            "grid_row": null,
            "max_height": null,
            "align_content": null,
            "visibility": null,
            "align_self": null,
            "height": null,
            "min_height": null,
            "padding": null,
            "grid_auto_rows": null,
            "grid_gap": null,
            "max_width": null,
            "order": null,
            "_view_module_version": "1.2.0",
            "grid_template_areas": null,
            "object_position": null,
            "object_fit": null,
            "grid_auto_columns": null,
            "margin": null,
            "display": null,
            "left": null
          }
        },
        "bdd823b44aca42dbb85bd4b9cc3a8c01": {
          "model_module": "@jupyter-widgets/controls",
          "model_name": "ProgressStyleModel",
          "model_module_version": "1.5.0",
          "state": {
            "_view_name": "StyleView",
            "_model_name": "ProgressStyleModel",
            "description_width": "",
            "_view_module": "@jupyter-widgets/base",
            "_model_module_version": "1.5.0",
            "_view_count": null,
            "_view_module_version": "1.2.0",
            "bar_color": null,
            "_model_module": "@jupyter-widgets/controls"
          }
        },
        "98722883d21d44dabc47963b570eb100": {
          "model_module": "@jupyter-widgets/base",
          "model_name": "LayoutModel",
          "model_module_version": "1.2.0",
          "state": {
            "_view_name": "LayoutView",
            "grid_template_rows": null,
            "right": null,
            "justify_content": null,
            "_view_module": "@jupyter-widgets/base",
            "overflow": null,
            "_model_module_version": "1.2.0",
            "_view_count": null,
            "flex_flow": null,
            "width": null,
            "min_width": null,
            "border": null,
            "align_items": null,
            "bottom": null,
            "_model_module": "@jupyter-widgets/base",
            "top": null,
            "grid_column": null,
            "overflow_y": null,
            "overflow_x": null,
            "grid_auto_flow": null,
            "grid_area": null,
            "grid_template_columns": null,
            "flex": null,
            "_model_name": "LayoutModel",
            "justify_items": null,
            "grid_row": null,
            "max_height": null,
            "align_content": null,
            "visibility": null,
            "align_self": null,
            "height": null,
            "min_height": null,
            "padding": null,
            "grid_auto_rows": null,
            "grid_gap": null,
            "max_width": null,
            "order": null,
            "_view_module_version": "1.2.0",
            "grid_template_areas": null,
            "object_position": null,
            "object_fit": null,
            "grid_auto_columns": null,
            "margin": null,
            "display": null,
            "left": null
          }
        },
        "af826485faa34d9e94b48240b82491be": {
          "model_module": "@jupyter-widgets/controls",
          "model_name": "DescriptionStyleModel",
          "model_module_version": "1.5.0",
          "state": {
            "_view_name": "StyleView",
            "_model_name": "DescriptionStyleModel",
            "description_width": "",
            "_view_module": "@jupyter-widgets/base",
            "_model_module_version": "1.5.0",
            "_view_count": null,
            "_view_module_version": "1.2.0",
            "_model_module": "@jupyter-widgets/controls"
          }
        },
        "aa69cd5c235843c89a0f3d7d0be1bb9d": {
          "model_module": "@jupyter-widgets/base",
          "model_name": "LayoutModel",
          "model_module_version": "1.2.0",
          "state": {
            "_view_name": "LayoutView",
            "grid_template_rows": null,
            "right": null,
            "justify_content": null,
            "_view_module": "@jupyter-widgets/base",
            "overflow": null,
            "_model_module_version": "1.2.0",
            "_view_count": null,
            "flex_flow": null,
            "width": null,
            "min_width": null,
            "border": null,
            "align_items": null,
            "bottom": null,
            "_model_module": "@jupyter-widgets/base",
            "top": null,
            "grid_column": null,
            "overflow_y": null,
            "overflow_x": null,
            "grid_auto_flow": null,
            "grid_area": null,
            "grid_template_columns": null,
            "flex": null,
            "_model_name": "LayoutModel",
            "justify_items": null,
            "grid_row": null,
            "max_height": null,
            "align_content": null,
            "visibility": null,
            "align_self": null,
            "height": null,
            "min_height": null,
            "padding": null,
            "grid_auto_rows": null,
            "grid_gap": null,
            "max_width": null,
            "order": null,
            "_view_module_version": "1.2.0",
            "grid_template_areas": null,
            "object_position": null,
            "object_fit": null,
            "grid_auto_columns": null,
            "margin": null,
            "display": null,
            "left": null
          }
        }
      }
    }
  },
  "cells": [
    {
      "cell_type": "code",
      "metadata": {
        "colab": {
          "base_uri": "https://localhost:8080/"
        },
        "id": "mdbhCXO9Xt7C",
        "outputId": "d4cd3ce6-b94a-444b-b6c0-e1371fede644"
      },
      "source": [
        "from google.colab import drive\n",
        "drive.mount('/content/drive')"
      ],
      "execution_count": null,
      "outputs": [
        {
          "output_type": "stream",
          "name": "stdout",
          "text": [
            "Mounted at /content/drive\n"
          ]
        }
      ]
    },
    {
      "cell_type": "code",
      "metadata": {
        "colab": {
          "base_uri": "https://localhost:8080/"
        },
        "id": "ZA07XwCvwyfL",
        "outputId": "0d102677-24c9-4f25-ed5f-28d4c0eda457"
      },
      "source": [
        "#downloading kaggle dfdc dataset partitions\n",
        "!wget --load-cookies kaggle.com_cookies.txt https://www.kaggle.com/c/16880/datadownload/dfdc_train_part_06.zip"
      ],
      "execution_count": null,
      "outputs": [
        {
          "output_type": "stream",
          "name": "stdout",
          "text": [
            "--2021-12-06 17:21:57--  https://www.kaggle.com/c/16880/datadownload/dfdc_train_part_06.zip\n",
            "Resolving www.kaggle.com (www.kaggle.com)... 35.244.233.98\n",
            "Connecting to www.kaggle.com (www.kaggle.com)|35.244.233.98|:443... connected.\n",
            "HTTP request sent, awaiting response... 302 Found\n",
            "Location: https://storage.googleapis.com/kaggle-competitions-detached-data/16880/dfdc_train_part_06.zip?GoogleAccessId=web-data@kaggle-161607.iam.gserviceaccount.com&Expires=1639070518&Signature=oDMF1AT61%2FsI77jHDMQgx2gq3H28TUGB3%2Fz%2BR9WirVSELIOn7XIvEuzmHSlqUO1pUY6Igy3%2BwsIn3amDq0Iu3WWiIlprxDtfUO0NeFZofUaivkJBjq%2FemNrSdT7Iu57eIEikenxu0I%2BP%2FXk4xLlGiw7xIGU7zrk9n6tCtW9IuVeAscTQyA4Ssy%2Fhvef0SIwkPyZ%2BVJFfmZtcljsCUlvY4d9moI8U7Uybs7uepUBtjdRAN%2BfalYBnTlW8kldPxJvzNyTWXKzex7jA16TEK%2FjPxxHQWB5PUEoFN3Rsn3UX13y4iOzc%2FTyOomvCNh1TxAn%2BIxzsK27Ac7uY7%2FOWlLuLUQ%3D%3D [following]\n",
            "--2021-12-06 17:21:58--  https://storage.googleapis.com/kaggle-competitions-detached-data/16880/dfdc_train_part_06.zip?GoogleAccessId=web-data@kaggle-161607.iam.gserviceaccount.com&Expires=1639070518&Signature=oDMF1AT61%2FsI77jHDMQgx2gq3H28TUGB3%2Fz%2BR9WirVSELIOn7XIvEuzmHSlqUO1pUY6Igy3%2BwsIn3amDq0Iu3WWiIlprxDtfUO0NeFZofUaivkJBjq%2FemNrSdT7Iu57eIEikenxu0I%2BP%2FXk4xLlGiw7xIGU7zrk9n6tCtW9IuVeAscTQyA4Ssy%2Fhvef0SIwkPyZ%2BVJFfmZtcljsCUlvY4d9moI8U7Uybs7uepUBtjdRAN%2BfalYBnTlW8kldPxJvzNyTWXKzex7jA16TEK%2FjPxxHQWB5PUEoFN3Rsn3UX13y4iOzc%2FTyOomvCNh1TxAn%2BIxzsK27Ac7uY7%2FOWlLuLUQ%3D%3D\n",
            "Resolving storage.googleapis.com (storage.googleapis.com)... 173.194.194.128, 173.194.196.128, 173.194.197.128, ...\n",
            "Connecting to storage.googleapis.com (storage.googleapis.com)|173.194.194.128|:443... connected.\n",
            "HTTP request sent, awaiting response... 200 OK\n",
            "Length: 10143454196 (9.4G) [application/zip]\n",
            "Saving to: ‘dfdc_train_part_06.zip’\n",
            "\n",
            "dfdc_train_part_06. 100%[===================>]   9.45G  43.9MB/s    in 3m 18s  \n",
            "\n",
            "2021-12-06 17:25:16 (48.9 MB/s) - ‘dfdc_train_part_06.zip’ saved [10143454196/10143454196]\n",
            "\n"
          ]
        }
      ]
    },
    {
      "cell_type": "code",
      "metadata": {
        "id": "MvZSnPwpxG3B"
      },
      "source": [
        "!unzip dfdc_train_part_06.zip"
      ],
      "execution_count": null,
      "outputs": []
    },
    {
      "cell_type": "code",
      "metadata": {
        "colab": {
          "base_uri": "https://localhost:8080/",
          "height": 373
        },
        "id": "70uS8T7axOAY",
        "outputId": "6793d1c2-4a06-478e-e234-b264003b2605"
      },
      "source": [
        "#code to split the videos into frames and store in separate directories\n",
        "import dlib\n",
        "import cv2\n",
        "import os\n",
        "import re\n",
        "import json\n",
        "from pylab import *\n",
        "from PIL import Image, ImageChops, ImageEnhance\n",
        "\n",
        "train_frame_folder = 'dfdc_train_part_6'\n",
        "with open(os.path.join(train_frame_folder, 'metadata.json'), 'r') as file:\n",
        "    data = json.load(file)\n",
        "list_of_train_data = [f for f in os.listdir(train_frame_folder) if f.endswith('.mp4')]\n",
        "detector = dlib.get_frontal_face_detector()\n",
        "for vid in list_of_train_data:\n",
        "    count = 0\n",
        "    cap = cv2.VideoCapture(os.path.join(train_frame_folder, vid))\n",
        "    frameRate = cap.get(5)\n",
        "    while cap.isOpened():\n",
        "        frameId = cap.get(1)\n",
        "        ret, frame = cap.read()\n",
        "        if ret != True:\n",
        "            break\n",
        "        if frameId % ((int(frameRate)+1)*1) == 0:\n",
        "            face_rects, scores, idx = detector.run(frame, 0)\n",
        "            for i, d in enumerate(face_rects):\n",
        "                x1 = d.left()\n",
        "                y1 = d.top()\n",
        "                x2 = d.right()\n",
        "                y2 = d.bottom()\n",
        "                crop_img = frame[y1:y2, x1:x2]\n",
        "                if data[vid]['label'] == 'REAL':\n",
        "                    cv2.imwrite('/content/drive/MyDrive/testing_actual/real/'+vid.split('.')[0]+'_'+str(count)+'.png', cv2.resize(crop_img, (128, 128)))\n",
        "                elif data[vid]['label'] == 'FAKE':\n",
        "                    cv2.imwrite('/content/drive/MyDrive/testing_actual/fake/'+vid.split('.')[0]+'_'+str(count)+'.png', cv2.resize(crop_img, (128, 128)))\n",
        "                count+=1"
      ],
      "execution_count": null,
      "outputs": [
        {
          "output_type": "error",
          "ename": "ImportError",
          "evalue": "ignored",
          "traceback": [
            "\u001b[0;31m---------------------------------------------------------------------------\u001b[0m",
            "\u001b[0;31mImportError\u001b[0m                               Traceback (most recent call last)",
            "\u001b[0;32m<ipython-input-7-026049e6f988>\u001b[0m in \u001b[0;36m<module>\u001b[0;34m()\u001b[0m\n\u001b[0;32m----> 1\u001b[0;31m \u001b[0;32mimport\u001b[0m \u001b[0mdlib\u001b[0m\u001b[0;34m\u001b[0m\u001b[0;34m\u001b[0m\u001b[0m\n\u001b[0m\u001b[1;32m      2\u001b[0m \u001b[0;32mimport\u001b[0m \u001b[0mcv2\u001b[0m\u001b[0;34m\u001b[0m\u001b[0;34m\u001b[0m\u001b[0m\n\u001b[1;32m      3\u001b[0m \u001b[0;32mimport\u001b[0m \u001b[0mos\u001b[0m\u001b[0;34m\u001b[0m\u001b[0;34m\u001b[0m\u001b[0m\n\u001b[1;32m      4\u001b[0m \u001b[0;32mimport\u001b[0m \u001b[0mre\u001b[0m\u001b[0;34m\u001b[0m\u001b[0;34m\u001b[0m\u001b[0m\n\u001b[1;32m      5\u001b[0m \u001b[0;32mimport\u001b[0m \u001b[0mjson\u001b[0m\u001b[0;34m\u001b[0m\u001b[0;34m\u001b[0m\u001b[0m\n",
            "\u001b[0;31mImportError\u001b[0m: KeyboardInterrupt: ",
            "",
            "\u001b[0;31m---------------------------------------------------------------------------\u001b[0;32m\nNOTE: If your import is failing due to a missing package, you can\nmanually install dependencies using either !pip or !apt.\n\nTo view examples of installing some common dependencies, click the\n\"Open Examples\" button below.\n\u001b[0;31m---------------------------------------------------------------------------\u001b[0m\n"
          ],
          "errorDetails": {
            "actions": [
              {
                "action": "open_url",
                "actionText": "Open Examples",
                "url": "/notebooks/snippets/importing_libraries.ipynb"
              }
            ]
          }
        }
      ]
    },
    {
      "cell_type": "code",
      "metadata": {
        "colab": {
          "base_uri": "https://localhost:8080/",
          "height": 1000
        },
        "id": "5-zMuQeAZQjZ",
        "outputId": "515c3b29-8946-426c-9b81-4986e5fdf9ea"
      },
      "source": [
        "import os\n",
        "import numpy as np\n",
        "import pandas as pd\n",
        "import seaborn as sn\n",
        "import tensorflow as tf\n",
        "import matplotlib.pyplot as plt\n",
        "from tensorflow.keras.utils import to_categorical\n",
        "from sklearn.model_selection import train_test_split\n",
        "from sklearn.metrics import confusion_matrix\n",
        "from tensorflow.keras.preprocessing.image import ImageDataGenerator\n",
        "from tensorflow.keras.preprocessing.image import img_to_array, load_img\n",
        "from tensorflow.keras.applications import EfficientNetB7, ResNet101V2, VGG19\n",
        "from tensorflow.keras.applications import Xception, InceptionResNetV2\n",
        "from tensorflow.keras.layers import Conv2D, MaxPooling2D, Flatten, BatchNormalization\n",
        "from tensorflow.keras.layers import Dense, Dropout, InputLayer, LeakyReLU\n",
        "from tensorflow.keras.layers import GlobalAveragePooling2D\n",
        "from tensorflow.keras.models import Sequential, Model\n",
        "from tensorflow.keras import optimizers\n",
        "from tensorflow.keras.callbacks import ReduceLROnPlateau, EarlyStopping\n",
        "from scipy.interpolate import make_interp_spline, BSpline\n",
        "\n",
        "\n",
        "# common variables initialized\n",
        "\n",
        "input_shape=(128, 128, 3)\n",
        "batch_size = 32\n",
        "epochs = 10\n",
        "epoch_list = list(range(1, epochs+1))\n",
        "\n",
        "# Path to training & testing set.\n",
        "\n",
        "train_data = '/content/drive/MyDrive/training_actual'\n",
        "test_data = '/content/drive/MyDrive/testing_actual'\n",
        "\n",
        "# Training Data Generator.\n",
        "train_datagen = ImageDataGenerator(rescale=1./255.)\n",
        "\n",
        "# Testing Data Generator.\n",
        "test_datagen = ImageDataGenerator(rescale=1./255.)\n",
        "\n",
        "# Flow training images in batches of 64 using train_datagen generator\n",
        "train_gen = train_datagen.flow_from_directory(train_data,\n",
        "                                                    target_size=(128, 128),\n",
        "                                                    batch_size=batch_size,\n",
        "                                                    class_mode='binary')\n",
        "\n",
        "# Flow test images in batches of 64 using test_datagen generator\n",
        "test_gen = test_datagen.flow_from_directory(test_data,\n",
        "                                                  target_size=(128, 128),\n",
        "                                                  batch_size=batch_size,\n",
        "                                                  class_mode='binary')\n",
        "\n",
        "\n",
        "base_model = VGG19(input_shape = (128, 128, 3), include_top = False, weights = 'imagenet')\n",
        "\n",
        "for layer in base_model.layers:\n",
        "    layer.trainable = True\n",
        "\n",
        "# Flatten the output layer to 1 dimension\n",
        "x = Flatten()(base_model.output)\n",
        "\n",
        "# Add a fully connected layer with 512 hidden units and ReLU activation\n",
        "x = Dense(512, activation='relu')(x)\n",
        "\n",
        "# Add a dropout rate of 0.5\n",
        "x = Dropout(0.5)(x)\n",
        "\n",
        "# Add a final sigmoid layer for classification\n",
        "x = Dense(1, activation='sigmoid')(x)\n",
        "\n",
        "model = tf.keras.models.Model(base_model.input, x)\n",
        "\n",
        "model.compile(optimizer = tf.keras.optimizers.Adam(lr=1e-5), loss = 'binary_crossentropy', metrics = ['accuracy'])\n",
        "\n",
        "\n",
        "# Early Stopping mechanism to stop training if the loss rate is unchanged for certain epochs.\n",
        "reduce = ReduceLROnPlateau(monitor='val_loss', factor=0.1, patience=5, mode='auto')\n",
        "early_stopping = EarlyStopping(monitor='val_loss', min_delta=1e-4, patience=5, verbose=0, mode='auto')\n",
        "\n",
        "history = model.fit(train_gen,\n",
        "                    epochs=epochs,\n",
        "                    validation_data=test_gen)\n",
        "\n",
        "\n",
        "network_name = \"VGG-19\"\n",
        "\n",
        "try:\n",
        "    os.mkdir(\"./Reference_Data2\")\n",
        "    os.mkdir(\"./Reference_Data2/Graphs\")\n",
        "    os.mkdir(\"./Reference_Data2/Summary\")\n",
        "    os.mkdir(\"./Reference_Data2/Model\")\n",
        "except OSError:\n",
        "    pass\n",
        "\n",
        "try:\n",
        "    os.mkdir(os.path.join(\"./Reference_Data2/Graphs\", network_name))\n",
        "except OSError:\n",
        "    pass\n",
        "\n",
        "#define x as 200 equally spaced values between the min and max of original x\n",
        "acc = np.linspace(min(epoch_list), max(epoch_list), 200)\n",
        "val_acc = np.linspace(min(epoch_list), max(epoch_list), 200)\n",
        "\n",
        "#define spline for accuracy\n",
        "spl1 = make_interp_spline(epoch_list, history.history['accuracy'], k=3)\n",
        "y_smooth1 = spl1(acc)\n",
        "#define spline validation accuracy\n",
        "spl2 = make_interp_spline(epoch_list, history.history['val_accuracy'], k=3)\n",
        "y_smooth2 = spl2(val_acc)\n",
        "\n",
        "#create smooth line chart\n",
        "graph_1 = plt.subplots(1, 1)\n",
        "plt.suptitle('Training & Testing Accuracy v/s Number of Epochs.', fontsize=10)\n",
        "plt.plot(acc, y_smooth1, label='Train Accuracy')\n",
        "plt.plot(val_acc, y_smooth2, label='Validation Accuracy')\n",
        "plt.xticks(np.arange(1, epochs + 1, 1))\n",
        "plt.ylabel('Accuracy Value')\n",
        "plt.xlabel('Epoch')\n",
        "plt.title('Accuracy')\n",
        "plt.legend(loc=\"best\")\n",
        "plt.savefig(os.path.join(\"./Reference_Data2/Graphs\", network_name, \"AccuracyVEpochs.png\"), dpi=300,\n",
        "            bbox_inches='tight')\n",
        "\n",
        "#define x as 200 equally spaced values between the min and max of original x\n",
        "loss = np.linspace(min(epoch_list), max(epoch_list), 200)\n",
        "val_loss = np.linspace(min(epoch_list), max(epoch_list), 200)\n",
        "\n",
        "#define spline for loss\n",
        "spl3 = make_interp_spline(epoch_list, history.history['loss'], k=3)\n",
        "y_smooth3 = spl3(loss)\n",
        "#define spline validation loss\n",
        "spl4 = make_interp_spline(epoch_list, history.history['val_loss'], k=3)\n",
        "y_smooth4 = spl4(val_loss)\n",
        "\n",
        "#create smooth line chart\n",
        "graph_2 = plt.subplots(1, 1)\n",
        "plt.suptitle('Training & Testing Loss v/s Number of Epochs.', fontsize=10)\n",
        "plt.plot(loss, y_smooth3, label='Train Loss')\n",
        "plt.plot(val_loss, y_smooth4, label='Validation Loss')\n",
        "plt.xticks(np.arange(1, epochs + 1, 1))\n",
        "plt.ylabel('Loss Value')\n",
        "plt.xlabel('Epoch')\n",
        "plt.title('Loss')\n",
        "plt.legend(loc=\"best\")\n",
        "plt.savefig(os.path.join(\"./Reference_Data2/Graphs\", network_name, \"LossVEpochs.png\"), dpi=300,\n",
        "            bbox_inches='tight')\n",
        "plt.show()\n",
        "\n",
        "# Saving model summary\n",
        "with open(\"./Reference_Data2/Summary/\" + network_name + \"summary.txt\", 'w+') as f:\n",
        "    model.summary(print_fn=lambda x: f.write(x + '\\n'))\n",
        "\n",
        "# Saving the Model for Inference Purpose.\n",
        "model.save('./Reference_Data2/Model/' + network_name + '/')\n",
        "model.save('./Reference_Data2/Model/' + network_name + '/' + network_name + '.h5')"
      ],
      "execution_count": null,
      "outputs": [
        {
          "output_type": "stream",
          "name": "stdout",
          "text": [
            "Found 4107 images belonging to 2 classes.\n",
            "Found 1473 images belonging to 2 classes.\n",
            "Downloading data from https://storage.googleapis.com/tensorflow/keras-applications/vgg19/vgg19_weights_tf_dim_ordering_tf_kernels_notop.h5\n",
            "80142336/80134624 [==============================] - 1s 0us/step\n",
            "80150528/80134624 [==============================] - 1s 0us/step\n"
          ]
        },
        {
          "output_type": "stream",
          "name": "stderr",
          "text": [
            "/usr/local/lib/python3.7/dist-packages/keras/optimizer_v2/adam.py:105: UserWarning: The `lr` argument is deprecated, use `learning_rate` instead.\n",
            "  super(Adam, self).__init__(name, **kwargs)\n"
          ]
        },
        {
          "output_type": "stream",
          "name": "stdout",
          "text": [
            "Epoch 1/10\n",
            "129/129 [==============================] - 1032s 8s/step - loss: 0.4748 - accuracy: 0.7884 - val_loss: 0.3351 - val_accuracy: 0.8846\n",
            "Epoch 2/10\n",
            "129/129 [==============================] - 49s 377ms/step - loss: 0.2887 - accuracy: 0.8761 - val_loss: 0.4140 - val_accuracy: 0.8914\n",
            "Epoch 3/10\n",
            "129/129 [==============================] - 49s 377ms/step - loss: 0.1746 - accuracy: 0.9345 - val_loss: 0.4491 - val_accuracy: 0.8832\n",
            "Epoch 4/10\n",
            "129/129 [==============================] - 48s 374ms/step - loss: 0.1088 - accuracy: 0.9610 - val_loss: 0.5099 - val_accuracy: 0.8826\n",
            "Epoch 5/10\n",
            "129/129 [==============================] - 48s 375ms/step - loss: 0.0838 - accuracy: 0.9710 - val_loss: 0.5054 - val_accuracy: 0.8690\n",
            "Epoch 6/10\n",
            "129/129 [==============================] - 48s 374ms/step - loss: 0.0654 - accuracy: 0.9771 - val_loss: 0.7004 - val_accuracy: 0.8873\n",
            "Epoch 7/10\n",
            "129/129 [==============================] - 48s 374ms/step - loss: 0.0459 - accuracy: 0.9813 - val_loss: 0.6690 - val_accuracy: 0.8907\n",
            "Epoch 8/10\n",
            "129/129 [==============================] - 48s 374ms/step - loss: 0.0362 - accuracy: 0.9871 - val_loss: 0.7407 - val_accuracy: 0.8805\n",
            "Epoch 9/10\n",
            "129/129 [==============================] - 48s 374ms/step - loss: 0.0307 - accuracy: 0.9883 - val_loss: 0.9021 - val_accuracy: 0.8880\n",
            "Epoch 10/10\n",
            "129/129 [==============================] - 48s 374ms/step - loss: 0.0348 - accuracy: 0.9871 - val_loss: 0.7041 - val_accuracy: 0.8887\n"
          ]
        },
        {
          "output_type": "display_data",
          "data": {
            "image/png": "[encoded data removed]",
            "text/plain": [
              "<Figure size 432x288 with 1 Axes>"
            ]
          },
          "metadata": {
            "needs_background": "light"
          }
        },
        {
          "output_type": "display_data",
          "data": {
            "image/png": "[encoded data removed]",
            "text/plain": [
              "<Figure size 432x288 with 1 Axes>"
            ]
          },
          "metadata": {
            "needs_background": "light"
          }
        },
        {
          "output_type": "stream",
          "name": "stdout",
          "text": [
            "INFO:tensorflow:Assets written to: ./Reference_Data2/Model/VGG-19/assets\n"
          ]
        }
      ]
    },
    {
      "cell_type": "code",
      "source": [
        "import os\n",
        "import numpy as np\n",
        "import pandas as pd\n",
        "import seaborn as sn\n",
        "import tensorflow as tf\n",
        "import matplotlib.pyplot as plt\n",
        "from sklearn.metrics import confusion_matrix\n",
        "from tensorflow.keras.preprocessing.image import ImageDataGenerator\n",
        "from tensorflow.keras.applications import EfficientNetB7, ResNet50V2, VGG19\n",
        "from tensorflow.keras.applications import Xception, InceptionResNetV2\n",
        "from tensorflow.keras.layers import Conv2D, MaxPooling2D, Flatten\n",
        "from tensorflow.keras.layers import Dense, Dropout, InputLayer\n",
        "from tensorflow.keras.layers import GlobalAveragePooling2D\n",
        "from tensorflow.keras.models import Sequential, Model\n",
        "from tensorflow.keras import optimizers\n",
        "from tensorflow.keras.callbacks import ReduceLROnPlateau, EarlyStopping\n",
        "from scipy.interpolate import make_interp_spline, BSpline\n",
        "\n",
        "\n",
        "# Initializing the Common Variables.\n",
        "input_shape = (128, 128, 3)\n",
        "batch_size = 64\n",
        "epochs = 10\n",
        "epoch_list = list(range(1, epochs+1))\n",
        "\n",
        "# Path to training & testing set.\n",
        "\n",
        "train_data = '/content/drive/MyDrive/training_actual'\n",
        "test_data = '/content/drive/MyDrive/testing_actual'\n",
        "\n",
        "# Training Data Generator.\n",
        "train_datagen = ImageDataGenerator(rescale=1./255.)\n",
        "\n",
        "# Testing Data Generator.\n",
        "test_datagen = ImageDataGenerator(rescale=1./255.)\n",
        "\n",
        "# Flow training images in batches of 64 using train_datagen generator\n",
        "train_generator = train_datagen.flow_from_directory(train_data,\n",
        "                                                    target_size=(128, 128),\n",
        "                                                    batch_size=batch_size,\n",
        "                                                    class_mode='binary')\n",
        "\n",
        "# Flow test images in batches of 64 using test_datagen generator\n",
        "test_generator = test_datagen.flow_from_directory(test_data,\n",
        "                                                    target_size=(128, 128),\n",
        "                                                    batch_size=batch_size,\n",
        "                                                    class_mode='binary')\n",
        "\n",
        "\n",
        "# Loading the Neural Network & Pre-Trained Weights.\n",
        "ResNet50V2_model = ResNet50V2(input_shape=input_shape, include_top=False, weights=\"imagenet\", classes=2)\n",
        "\n",
        "for i in range(50):\n",
        "    l = ResNet50V2_model.get_layer(index=i)\n",
        "    l.trainable = True\n",
        "\n",
        "# Extending the Neural Network Sequentially.\n",
        "model = Sequential()\n",
        "model.add(ResNet50V2_model)\n",
        "model.add(GlobalAveragePooling2D())\n",
        "model.add(Dense(units=1, activation='sigmoid'))\n",
        "\n",
        "# Compiling the Model.\n",
        "model.compile(loss='binary_crossentropy',\n",
        "                optimizer=optimizers.Adam(lr=1e-6, beta_1=0.9, beta_2=0.999, epsilon=None, decay=0.0),\n",
        "                metrics=['accuracy'])\n",
        "\n",
        "\n",
        "# Early Stopping mechanism to stop training if the loss rate is unchanged for certain epochs.\n",
        "reduce = ReduceLROnPlateau(monitor='val_loss', factor=0.1, patience=5, mode='auto')\n",
        "early_stopping = EarlyStopping(monitor='val_loss', min_delta=1e-4, patience=5, verbose=0, mode='auto')\n",
        "\n",
        "# Starting the Training.\n",
        "history = model.fit(train_generator, epochs=epochs, validation_data=test_generator)\n",
        "\n",
        "\n",
        "# Plotting the graphs\n",
        "network_name = \"ResNet50V2\"\n",
        "\n",
        "try:\n",
        "    os.mkdir(\"./Reference_Data4\")\n",
        "    os.mkdir(\"./Reference_Data4/Graphs\")\n",
        "    os.mkdir(\"./Reference_Data4/Summary\")\n",
        "    os.mkdir(\"./Reference_Data4/Model\")\n",
        "except OSError:\n",
        "    pass\n",
        "\n",
        "try:\n",
        "    os.mkdir(os.path.join(\"./Reference_Data4/Graphs\", network_name))\n",
        "except OSError:\n",
        "    pass\n",
        "\n",
        "#define x as 200 equally spaced values between the min and max of original x\n",
        "acc = np.linspace(min(epoch_list), max(epoch_list), 200)\n",
        "val_acc = np.linspace(min(epoch_list), max(epoch_list), 200)\n",
        "\n",
        "#define spline for accuracy\n",
        "spl1 = make_interp_spline(epoch_list, history.history['accuracy'], k=3)\n",
        "y_smooth1 = spl1(acc)\n",
        "#define spline accuracy\n",
        "spl2 = make_interp_spline(epoch_list, history.history['val_accuracy'], k=3)\n",
        "y_smooth2 = spl2(val_acc)\n",
        "\n",
        "#create smooth line chart\n",
        "graph_1 = plt.subplots(1, 1)\n",
        "plt.suptitle('Training & Testing Accuracy v/s Number of Epochs.', fontsize=10)\n",
        "plt.plot(acc, y_smooth1, label='Train Accuracy')\n",
        "plt.plot(val_acc, y_smooth2, label='Validation Accuracy')\n",
        "plt.xticks(np.arange(1, epochs + 1, 1))\n",
        "plt.ylabel('Accuracy Value')\n",
        "plt.xlabel('Epoch')\n",
        "plt.title('Accuracy')\n",
        "plt.legend(loc=\"best\")\n",
        "plt.savefig(os.path.join(\"./Reference_Data4/Graphs\", network_name, \"AccuracyVEpochs.png\"), dpi=300,\n",
        "            bbox_inches='tight')\n",
        "\n",
        "#define x as 200 equally spaced values between the min and max of original x\n",
        "loss = np.linspace(min(epoch_list), max(epoch_list), 200)\n",
        "val_loss = np.linspace(min(epoch_list), max(epoch_list), 200)\n",
        "\n",
        "#define spline for accuracy\n",
        "spl3 = make_interp_spline(epoch_list, history.history['loss'], k=3)\n",
        "y_smooth3 = spl3(loss)\n",
        "#define spline accuracy\n",
        "spl4 = make_interp_spline(epoch_list, history.history['val_loss'], k=3)\n",
        "y_smooth4 = spl4(val_loss)\n",
        "\n",
        "#create smooth line chart\n",
        "graph_2 = plt.subplots(1, 1)\n",
        "plt.suptitle('Training & Testing Loss v/s Number of Epochs.', fontsize=10)\n",
        "plt.plot(loss, y_smooth3, label='Train Loss')\n",
        "plt.plot(val_loss, y_smooth4, label='Validation Loss')\n",
        "plt.xticks(np.arange(1, epochs + 1, 1))\n",
        "plt.ylabel('Loss Value')\n",
        "plt.xlabel('Epoch')\n",
        "plt.title('Loss')\n",
        "plt.legend(loc=\"best\")\n",
        "plt.savefig(os.path.join(\"./Reference_Data4/Graphs\", network_name, \"LossVEpochs.png\"), dpi=300,\n",
        "            bbox_inches='tight')\n",
        "plt.show()\n",
        "\n",
        "\n",
        "# Saving model summary\n",
        "with open(\"./Reference_Data4/Summary/\" + network_name + \"summary.txt\", 'w+') as f:\n",
        "    model.summary(print_fn=lambda x: f.write(x + '\\n'))\n",
        "\n",
        "# Saving the Model for Inference Purpose.\n",
        "model.save('./Reference_Data4/Model/' + network_name + '/')\n",
        "model.save('./Reference_Data4/Model/' + network_name + '/' + network_name + '.h5')"
      ],
      "metadata": {
        "colab": {
          "base_uri": "https://localhost:8080/",
          "height": 1000
        },
        "id": "wTHTrD-20IGh",
        "outputId": "dea06481-a3ae-4139-bc8f-2f09888c836a"
      },
      "execution_count": null,
      "outputs": [
        {
          "output_type": "stream",
          "name": "stdout",
          "text": [
            "Found 4107 images belonging to 2 classes.\n",
            "Found 1473 images belonging to 2 classes.\n",
            "Downloading data from https://storage.googleapis.com/tensorflow/keras-applications/resnet/resnet50v2_weights_tf_dim_ordering_tf_kernels_notop.h5\n",
            "94674944/94668760 [==============================] - 1s 0us/step\n",
            "94683136/94668760 [==============================] - 1s 0us/step\n"
          ]
        },
        {
          "output_type": "stream",
          "name": "stderr",
          "text": [
            "/usr/local/lib/python3.7/dist-packages/keras/optimizer_v2/adam.py:105: UserWarning: The `lr` argument is deprecated, use `learning_rate` instead.\n",
            "  super(Adam, self).__init__(name, **kwargs)\n"
          ]
        },
        {
          "output_type": "stream",
          "name": "stdout",
          "text": [
            "Epoch 1/10\n",
            "65/65 [==============================] - 47s 578ms/step - loss: 0.6592 - accuracy: 0.6304 - val_loss: 0.6323 - val_accuracy: 0.6599\n",
            "Epoch 2/10\n",
            "65/65 [==============================] - 34s 524ms/step - loss: 0.5897 - accuracy: 0.6900 - val_loss: 0.6029 - val_accuracy: 0.6640\n",
            "Epoch 3/10\n",
            "65/65 [==============================] - 34s 523ms/step - loss: 0.5412 - accuracy: 0.7404 - val_loss: 0.5588 - val_accuracy: 0.7054\n",
            "Epoch 4/10\n",
            "65/65 [==============================] - 34s 521ms/step - loss: 0.5009 - accuracy: 0.7794 - val_loss: 0.5106 - val_accuracy: 0.7651\n",
            "Epoch 5/10\n",
            "65/65 [==============================] - 34s 520ms/step - loss: 0.4620 - accuracy: 0.8052 - val_loss: 0.4813 - val_accuracy: 0.7957\n",
            "Epoch 6/10\n",
            "65/65 [==============================] - 34s 519ms/step - loss: 0.4289 - accuracy: 0.8391 - val_loss: 0.4600 - val_accuracy: 0.8133\n",
            "Epoch 7/10\n",
            "65/65 [==============================] - 34s 520ms/step - loss: 0.3952 - accuracy: 0.8639 - val_loss: 0.4381 - val_accuracy: 0.8303\n",
            "Epoch 8/10\n",
            "65/65 [==============================] - 34s 517ms/step - loss: 0.3701 - accuracy: 0.8848 - val_loss: 0.4213 - val_accuracy: 0.8411\n",
            "Epoch 9/10\n",
            "65/65 [==============================] - 34s 518ms/step - loss: 0.3452 - accuracy: 0.8953 - val_loss: 0.4096 - val_accuracy: 0.8506\n",
            "Epoch 10/10\n",
            "65/65 [==============================] - 34s 518ms/step - loss: 0.3227 - accuracy: 0.9028 - val_loss: 0.4000 - val_accuracy: 0.8561\n"
          ]
        },
        {
          "output_type": "display_data",
          "data": {
            "image/png": "[encoded data removed]",
            "text/plain": [
              "<Figure size 432x288 with 1 Axes>"
            ]
          },
          "metadata": {
            "needs_background": "light"
          }
        },
        {
          "output_type": "display_data",
          "data": {
            "image/png": "[encoded data removed]",
            "text/plain": [
              "<Figure size 432x288 with 1 Axes>"
            ]
          },
          "metadata": {
            "needs_background": "light"
          }
        },
        {
          "output_type": "stream",
          "name": "stdout",
          "text": [
            "INFO:tensorflow:Assets written to: ./Reference_Data4/Model/ResNet50V2/assets\n"
          ]
        },
        {
          "output_type": "stream",
          "name": "stderr",
          "text": [
            "/usr/local/lib/python3.7/dist-packages/keras/engine/functional.py:1410: CustomMaskWarning: Custom mask layers require a config and must override get_config. When loading, the custom mask layer must be passed to the custom_objects argument.\n",
            "  layer_config = serialize_layer_fn(layer)\n",
            "/usr/local/lib/python3.7/dist-packages/keras/saving/saved_model/layer_serialization.py:112: CustomMaskWarning: Custom mask layers require a config and must override get_config. When loading, the custom mask layer must be passed to the custom_objects argument.\n",
            "  return generic_utils.serialize_keras_object(obj)\n"
          ]
        }
      ]
    },
    {
      "cell_type": "code",
      "metadata": {
        "colab": {
          "base_uri": "https://localhost:8080/",
          "height": 1000
        },
        "id": "Vx7M-Yj7d-0H",
        "outputId": "8b1cd004-d95f-48a3-9aa3-ce006b8cca48"
      },
      "source": [
        "import os\n",
        "import numpy as np\n",
        "import pandas as pd\n",
        "import seaborn as sn\n",
        "import tensorflow as tf\n",
        "import matplotlib.pyplot as plt\n",
        "from tensorflow.keras.utils import to_categorical\n",
        "from sklearn.model_selection import train_test_split\n",
        "from sklearn.metrics import confusion_matrix\n",
        "from tensorflow.keras.preprocessing.image import ImageDataGenerator\n",
        "from tensorflow.keras.preprocessing.image import img_to_array, load_img\n",
        "from tensorflow.keras.applications import EfficientNetB7, ResNet101V2, VGG19\n",
        "from tensorflow.keras.applications import Xception, InceptionResNetV2\n",
        "from tensorflow.keras.layers import Conv2D, MaxPooling2D, Flatten, BatchNormalization\n",
        "from tensorflow.keras.layers import Dense, Dropout, InputLayer, LeakyReLU\n",
        "from tensorflow.keras.layers import GlobalAveragePooling2D\n",
        "from tensorflow.keras.models import Sequential, Model\n",
        "from tensorflow.keras import optimizers\n",
        "from tensorflow.keras.callbacks import ReduceLROnPlateau, EarlyStopping\n",
        "from scipy.interpolate import make_interp_spline, BSpline\n",
        "\n",
        "\n",
        "# Initializing the Common Variables.\n",
        "\n",
        "input_shape=(128, 128, 3)\n",
        "batch_size = 32\n",
        "epochs = 10\n",
        "epoch_list = list(range(1, epochs+1))\n",
        "\n",
        "\n",
        "\n",
        "train_data = '/content/drive/MyDrive/training_actual'\n",
        "test_data = '/content/drive/MyDrive/testing_actual'\n",
        "\n",
        "# Training Data Generator.\n",
        "train_datagen = ImageDataGenerator(rescale=1./255.)\n",
        "\n",
        "# Testing Data Generator.\n",
        "test_datagen = ImageDataGenerator(rescale=1./255.)\n",
        "\n",
        "# Flow training images in batches of 32 using train_datagen generator\n",
        "train_generator = train_datagen.flow_from_directory(train_data,\n",
        "                                                    target_size=(128, 128),\n",
        "                                                    batch_size=batch_size,\n",
        "                                                    class_mode='binary')\n",
        "\n",
        "# Flow test images in batches of 64 using test_datagen generator\n",
        "test_generator = test_datagen.flow_from_directory(test_data,\n",
        "                                                  target_size=(128, 128),\n",
        "                                                  batch_size=batch_size,\n",
        "                                                  class_mode='binary')\n",
        "\n",
        "\n",
        "# Defining the base nodel\n",
        "\n",
        "base_model = Xception(input_shape = (128, 128, 3), include_top = False, weights = 'imagenet')\n",
        "\n",
        "for layer in base_model.layers:\n",
        "    layer.trainable = True\n",
        "\n",
        "# Flatten the output layer to 1 dimension\n",
        "x = Flatten()(base_model.output)\n",
        "\n",
        "# Add a fully connected layer with 512 hidden units and ReLU activation\n",
        "x = Dense(512, activation='relu')(x)\n",
        "\n",
        "# Add a dropout rate of 0.5\n",
        "x = Dropout(0.5)(x)\n",
        "\n",
        "# Add a final sigmoid layer for classification\n",
        "x = Dense(1, activation='sigmoid')(x)\n",
        "\n",
        "model = tf.keras.models.Model(base_model.input, x)\n",
        "\n",
        "model.compile(optimizer = tf.keras.optimizers.Adam(lr=1e-6), loss = 'binary_crossentropy', metrics = ['accuracy'])\n",
        "\n",
        "\n",
        "# Early Stopping mechanism to stop training if the loss rate is unchanged for certain epochs.\n",
        "reduce = ReduceLROnPlateau(monitor='val_loss', factor=0.1, patience=5, mode='auto')\n",
        "early_stopping = EarlyStopping(monitor='val_loss', min_delta=1e-4, patience=5, verbose=0, mode='auto')\n",
        "\n",
        "history = model.fit(train_generator,\n",
        "                    epochs=epochs,\n",
        "                    validation_data=test_generator)\n",
        "# history = model.fit(train_generator, validation_data = test_generator, steps_per_epoch = 100, epochs = epochs)\n",
        "\n",
        "\n",
        "# Just edit network_name while changing the training network, i.e.,Xception, Resnet, etc..\n",
        "network_name = \"Xception\"\n",
        "\n",
        "try:\n",
        "    os.mkdir(\"./Reference_Data\")\n",
        "    os.mkdir(\"./Reference_Data/Graphs\")\n",
        "    os.mkdir(\"./Reference_Data/Summary\")\n",
        "    os.mkdir(\"./Reference_Data/Model\")\n",
        "except OSError:\n",
        "    pass\n",
        "\n",
        "try:\n",
        "    os.mkdir(os.path.join(\"./Reference_Data/Graphs\", network_name))\n",
        "except OSError:\n",
        "    pass\n",
        "\n",
        "#define x as 200 equally spaced values between the min and max of original x\n",
        "acc = np.linspace(min(epoch_list), max(epoch_list), 200)\n",
        "val_acc = np.linspace(min(epoch_list), max(epoch_list), 200)\n",
        "\n",
        "#define spline for accuracy\n",
        "spl1 = make_interp_spline(epoch_list, history.history['accuracy'], k=3)\n",
        "y_smooth1 = spl1(acc)\n",
        "#define spline validation accuracy\n",
        "spl2 = make_interp_spline(epoch_list, history.history['val_accuracy'], k=3)\n",
        "y_smooth2 = spl2(val_acc)\n",
        "\n",
        "#create smooth line chart\n",
        "graph_1 = plt.subplots(1, 1)\n",
        "plt.suptitle('Training & Testing Accuracy v/s Number of Epochs.', fontsize=10)\n",
        "plt.plot(acc, y_smooth1, label='Train Accuracy')\n",
        "plt.plot(val_acc, y_smooth2, label='Validation Accuracy')\n",
        "plt.xticks(np.arange(1, epochs + 1, 1))\n",
        "plt.ylabel('Accuracy Value')\n",
        "plt.xlabel('Epoch')\n",
        "plt.title('Accuracy')\n",
        "plt.legend(loc=\"best\")\n",
        "plt.savefig(os.path.join(\"./Reference_Data/Graphs\", network_name, \"AccuracyVEpochs.png\"), dpi=300,\n",
        "            bbox_inches='tight')\n",
        "\n",
        "#define x as 200 equally spaced values between the min and max of original x\n",
        "loss = np.linspace(min(epoch_list), max(epoch_list), 200)\n",
        "val_loss = np.linspace(min(epoch_list), max(epoch_list), 200)\n",
        "\n",
        "#define spline for loss\n",
        "spl3 = make_interp_spline(epoch_list, history.history['loss'], k=3)\n",
        "y_smooth3 = spl3(loss)\n",
        "#define spline validation loss\n",
        "spl4 = make_interp_spline(epoch_list, history.history['val_loss'], k=3)\n",
        "y_smooth4 = spl4(val_loss)\n",
        "\n",
        "#create smooth line chart\n",
        "graph_2 = plt.subplots(1, 1)\n",
        "plt.suptitle('Training & Testing Loss v/s Number of Epochs.', fontsize=10)\n",
        "plt.plot(loss, y_smooth3, label='Train Loss')\n",
        "plt.plot(val_loss, y_smooth4, label='Validation Loss')\n",
        "plt.xticks(np.arange(1, epochs + 1, 1))\n",
        "plt.ylabel('Loss Value')\n",
        "plt.xlabel('Epoch')\n",
        "plt.title('Loss')\n",
        "plt.legend(loc=\"best\")\n",
        "plt.savefig(os.path.join(\"./Reference_Data/Graphs\", network_name, \"LossVEpochs.png\"), dpi=300,\n",
        "            bbox_inches='tight')\n",
        "plt.show()\n",
        "\n",
        "# Saving model summary\n",
        "with open(\"./Reference_Data/Summary/\" + network_name + \"summary.txt\", 'w+') as f:\n",
        "    model.summary(print_fn=lambda x: f.write(x + '\\n'))\n",
        "\n",
        "# Saving the Model for Inference Purpose.\n",
        "model.save('./Reference_Data/Model/' + network_name + '/')\n",
        "model.save('./Reference_Data/Model/' + network_name + '/' + network_name + '.h5')"
      ],
      "execution_count": null,
      "outputs": [
        {
          "output_type": "stream",
          "name": "stdout",
          "text": [
            "Found 4107 images belonging to 2 classes.\n",
            "Found 1473 images belonging to 2 classes.\n",
            "Downloading data from https://storage.googleapis.com/tensorflow/keras-applications/xception/xception_weights_tf_dim_ordering_tf_kernels_notop.h5\n",
            "83689472/83683744 [==============================] - 1s 0us/step\n",
            "83697664/83683744 [==============================] - 1s 0us/step\n"
          ]
        },
        {
          "output_type": "stream",
          "name": "stderr",
          "text": [
            "/usr/local/lib/python3.7/dist-packages/keras/optimizer_v2/adam.py:105: UserWarning: The `lr` argument is deprecated, use `learning_rate` instead.\n",
            "  super(Adam, self).__init__(name, **kwargs)\n"
          ]
        },
        {
          "output_type": "stream",
          "name": "stdout",
          "text": [
            "Epoch 1/10\n",
            "129/129 [==============================] - 74s 492ms/step - loss: 0.6360 - accuracy: 0.6905 - val_loss: 0.4429 - val_accuracy: 0.8921\n",
            "Epoch 2/10\n",
            "129/129 [==============================] - 61s 471ms/step - loss: 0.5626 - accuracy: 0.7721 - val_loss: 0.4209 - val_accuracy: 0.8927\n",
            "Epoch 3/10\n",
            "129/129 [==============================] - 61s 471ms/step - loss: 0.5233 - accuracy: 0.7908 - val_loss: 0.4094 - val_accuracy: 0.8927\n",
            "Epoch 4/10\n",
            "129/129 [==============================] - 61s 470ms/step - loss: 0.4962 - accuracy: 0.8001 - val_loss: 0.3955 - val_accuracy: 0.8927\n",
            "Epoch 5/10\n",
            "129/129 [==============================] - 61s 470ms/step - loss: 0.4688 - accuracy: 0.8123 - val_loss: 0.3839 - val_accuracy: 0.8921\n",
            "Epoch 6/10\n",
            "129/129 [==============================] - 61s 471ms/step - loss: 0.4418 - accuracy: 0.8164 - val_loss: 0.3782 - val_accuracy: 0.8927\n",
            "Epoch 7/10\n",
            "129/129 [==============================] - 61s 470ms/step - loss: 0.4206 - accuracy: 0.8208 - val_loss: 0.3734 - val_accuracy: 0.8914\n",
            "Epoch 8/10\n",
            "129/129 [==============================] - 61s 469ms/step - loss: 0.4023 - accuracy: 0.8252 - val_loss: 0.3731 - val_accuracy: 0.8907\n",
            "Epoch 9/10\n",
            "129/129 [==============================] - 61s 470ms/step - loss: 0.3842 - accuracy: 0.8342 - val_loss: 0.3722 - val_accuracy: 0.8914\n",
            "Epoch 10/10\n",
            "129/129 [==============================] - 61s 469ms/step - loss: 0.3637 - accuracy: 0.8393 - val_loss: 0.3708 - val_accuracy: 0.8907\n"
          ]
        },
        {
          "output_type": "display_data",
          "data": {
            "image/png": "[encoded data removed]",
            "text/plain": [
              "<Figure size 432x288 with 1 Axes>"
            ]
          },
          "metadata": {
            "needs_background": "light"
          }
        },
        {
          "output_type": "display_data",
          "data": {
            "image/png": "[encoded data removed]",
            "text/plain": [
              "<Figure size 432x288 with 1 Axes>"
            ]
          },
          "metadata": {
            "needs_background": "light"
          }
        },
        {
          "output_type": "stream",
          "name": "stdout",
          "text": [
            "INFO:tensorflow:Assets written to: ./Reference_Data/Model/Xception/assets\n"
          ]
        },
        {
          "output_type": "stream",
          "name": "stderr",
          "text": [
            "/usr/local/lib/python3.7/dist-packages/keras/engine/functional.py:1410: CustomMaskWarning: Custom mask layers require a config and must override get_config. When loading, the custom mask layer must be passed to the custom_objects argument.\n",
            "  layer_config = serialize_layer_fn(layer)\n",
            "/usr/local/lib/python3.7/dist-packages/keras/saving/saved_model/layer_serialization.py:112: CustomMaskWarning: Custom mask layers require a config and must override get_config. When loading, the custom mask layer must be passed to the custom_objects argument.\n",
            "  return generic_utils.serialize_keras_object(obj)\n"
          ]
        }
      ]
    },
    {
      "cell_type": "code",
      "metadata": {
        "colab": {
          "base_uri": "https://localhost:8080/",
          "height": 1000
        },
        "id": "cB2tWkmzIWHQ",
        "outputId": "f5eba008-4983-40d3-d7ac-eb5e75a819b0"
      },
      "source": [
        "import os\n",
        "import numpy as np\n",
        "import pandas as pd\n",
        "import tensorflow as tf\n",
        "import matplotlib.pyplot as plt\n",
        "from tensorflow.keras.utils import to_categorical\n",
        "from sklearn.model_selection import train_test_split\n",
        "from sklearn.metrics import confusion_matrix\n",
        "from tensorflow.keras.preprocessing.image import ImageDataGenerator\n",
        "from tensorflow.keras.preprocessing.image import img_to_array, load_img\n",
        "from tensorflow.keras.applications import EfficientNetB7, ResNet101V2, VGG19\n",
        "from tensorflow.keras.applications import Xception, InceptionResNetV2\n",
        "from tensorflow.keras.layers import Conv2D, MaxPooling2D, Flatten, BatchNormalization\n",
        "from tensorflow.keras.layers import Dense, Dropout, InputLayer, LeakyReLU\n",
        "from tensorflow.keras.layers import GlobalAveragePooling2D\n",
        "from tensorflow.keras.models import Sequential, Model\n",
        "from tensorflow.keras import optimizers\n",
        "from tensorflow.keras.callbacks import ReduceLROnPlateau, EarlyStopping\n",
        "from scipy.interpolate import make_interp_spline, BSpline\n",
        "\n",
        "\n",
        "class myCallbacks(tf.keras.callbacks.Callback):\n",
        "    def on_epoch_end(self, epoch, logs={}):\n",
        "        if (logs.get('accuracy')>0.95 or logs.get('val_accuracy')>0.95):\n",
        "            print('\\nDesired Accuracy of 95% has been reached, therefore cancelling Training!!')\n",
        "            self.model.stop_training = True\n",
        "\n",
        "callbacks = myCallbacks()\n",
        "\n",
        "\n",
        "# Initializing the Common Variables.\n",
        "\n",
        "input_shape=(128, 128, 3)\n",
        "batch_size = 64\n",
        "epochs = 10\n",
        "epoch_list = list(range(1, epochs+1))\n",
        "\n",
        "# Path to training & testing set.\n",
        "\n",
        "train_data = '/content/drive/MyDrive/training_actual'\n",
        "test_data = '/content/drive/MyDrive/testing_actual'\n",
        "\n",
        "# Training Data Generator.\n",
        "train_datagen = ImageDataGenerator(rescale=1./255.)\n",
        "\n",
        "# Testing Data Generator.\n",
        "test_datagen = ImageDataGenerator(rescale=1./255.)\n",
        "\n",
        "# Flow training images in batches of 64 using train_datagen generator\n",
        "train_generator = train_datagen.flow_from_directory(train_data,\n",
        "                                                    target_size=(128, 128),\n",
        "                                                    batch_size=batch_size,\n",
        "                                                    class_mode='binary')\n",
        "\n",
        "# Flow test images in batches of 64 using test_datagen generator\n",
        "test_generator = test_datagen.flow_from_directory(test_data,\n",
        "                                                  target_size=(128, 128),\n",
        "                                                  batch_size=batch_size,\n",
        "                                                  class_mode='binary')\n",
        "\n",
        "\n",
        "# DEFINING AND COMPILING MESONET MODEL\n",
        "model = Sequential([\n",
        "    Conv2D(8, (3, 3), activation='relu', input_shape=input_shape),\n",
        "    MaxPooling2D(2, 2),\n",
        "    BatchNormalization(),\n",
        "\n",
        "    Conv2D(8, (5, 5), padding='same', activation = 'relu'),\n",
        "    BatchNormalization(),\n",
        "    MaxPooling2D(pool_size=(2, 2), padding='same'),\n",
        "\n",
        "    Conv2D(16, (5, 5), padding='same', activation = 'relu'),\n",
        "    BatchNormalization(),\n",
        "    MaxPooling2D(pool_size=(2, 2), padding='same'),\n",
        "\n",
        "    Conv2D(16, (5, 5), padding='same', activation = 'relu'),\n",
        "    BatchNormalization(),\n",
        "    MaxPooling2D(pool_size=(4, 4), padding='same'),\n",
        "\n",
        "    Flatten(),\n",
        "    Dropout(0.5),\n",
        "    Dense(16),\n",
        "    LeakyReLU(alpha=0.1),\n",
        "    Dropout(0.5),\n",
        "    Dense(1, activation = 'sigmoid')\n",
        "])\n",
        "\n",
        "model.compile(optimizer = tf.keras.optimizers.Adam(lr=0.0001), loss = 'binary_crossentropy', metrics = ['accuracy'])\n",
        "\n",
        "\n",
        "# Early Stopping mechanism to stop training if the loss rate is unchanged for certain epochs.\n",
        "reduce = ReduceLROnPlateau(monitor='val_loss', factor=0.1, patience=5, mode='auto')\n",
        "early_stopping = EarlyStopping(monitor='val_loss', min_delta=1e-4, patience=5, verbose=0, mode='auto')\n",
        "\n",
        "history = model.fit(train_generator,\n",
        "                    epochs=epochs,\n",
        "                    verbose=1,\n",
        "                    validation_data=test_generator,\n",
        "                    callbacks=[callbacks])\n",
        "\n",
        "\n",
        "# Just edit network_name while changing the training network, i.e.,Xception, Resnet, etc..\n",
        "network_name = \"Mesonet\"\n",
        "\n",
        "try:\n",
        "    os.mkdir(\"./Reference_Data3\")\n",
        "    os.mkdir(\"./Reference_Data3/Graphs\")\n",
        "    os.mkdir(\"./Reference_Data3/Summary\")\n",
        "    os.mkdir(\"./Reference_Data3/Model\")\n",
        "except OSError:\n",
        "    pass\n",
        "\n",
        "try:\n",
        "    os.mkdir(os.path.join(\"./Reference_Data3/Graphs\", network_name))\n",
        "except OSError:\n",
        "    pass\n",
        "\n",
        "#define x as 200 equally spaced values between the min and max of original epoch list\n",
        "acc = np.linspace(min(epoch_list), max(epoch_list), 200)\n",
        "val_acc = np.linspace(min(epoch_list), max(epoch_list), 200)\n",
        "\n",
        "#define spline for accuracy\n",
        "spl1 = make_interp_spline(epoch_list, history.history['accuracy'], k=3)\n",
        "y_smooth1 = spl1(acc)\n",
        "#define spline accuracy\n",
        "spl2 = make_interp_spline(epoch_list, history.history['val_accuracy'], k=3)\n",
        "y_smooth2 = spl2(val_acc)\n",
        "\n",
        "#create smooth line chart\n",
        "graph_1 = plt.subplots(1, 1)\n",
        "plt.suptitle('Training & Testing Accuracy v/s Number of Epochs.', fontsize=10)\n",
        "plt.plot(acc, y_smooth1, label='Train Accuracy')\n",
        "plt.plot(val_acc, y_smooth2, label='Validation Accuracy')\n",
        "plt.xticks(np.arange(1, epochs + 1, 1))\n",
        "plt.ylabel('Accuracy Value')\n",
        "plt.xlabel('Epoch')\n",
        "plt.title('Accuracy')\n",
        "plt.legend(loc=\"best\")\n",
        "plt.savefig(os.path.join(\"./Reference_Data3/Graphs\", network_name, \"AccuracyVEpochs.png\"), dpi=300,\n",
        "            bbox_inches='tight')\n",
        "\n",
        "#define x as 200 equally spaced values between the min and max of original epoch list\n",
        "loss = np.linspace(min(epoch_list), max(epoch_list), 200)\n",
        "val_loss = np.linspace(min(epoch_list), max(epoch_list), 200)\n",
        "\n",
        "#define spline for accuracy\n",
        "spl3 = make_interp_spline(epoch_list, history.history['loss'], k=3)\n",
        "y_smooth3 = spl3(loss)\n",
        "#define spline accuracy\n",
        "spl4 = make_interp_spline(epoch_list, history.history['val_loss'], k=3)\n",
        "y_smooth4 = spl4(val_loss)\n",
        "\n",
        "#create smooth line chart\n",
        "graph_2 = plt.subplots(1, 1)\n",
        "plt.suptitle('Training & Testing Loss v/s Number of Epochs.', fontsize=10)\n",
        "plt.plot(loss, y_smooth3, label='Train Loss')\n",
        "plt.plot(val_loss, y_smooth4, label='Validation Loss')\n",
        "plt.xticks(np.arange(1, epochs + 1, 1))\n",
        "plt.ylabel('Loss Value')\n",
        "plt.xlabel('Epoch')\n",
        "plt.title('Loss')\n",
        "plt.legend(loc=\"best\")\n",
        "plt.savefig(os.path.join(\"./Reference_Data3/Graphs\", network_name, \"LossVEpochs.png\"), dpi=300,\n",
        "            bbox_inches='tight')\n",
        "plt.show()\n",
        "\n",
        "# Saving model summary\n",
        "with open(\"./Reference_Data3/Summary/\" + network_name + \"summary.txt\", 'w+') as f:\n",
        "    model.summary(print_fn=lambda x: f.write(x + '\\n'))\n",
        "\n",
        "# Saving the Model for Inference Purpose.\n",
        "model.save('./Reference_Data3/Model/' + network_name + '/')\n",
        "model.save('./Reference_Data3/Model/' + network_name + '/' + network_name + '.h5')"
      ],
      "execution_count": null,
      "outputs": [
        {
          "output_type": "stream",
          "name": "stdout",
          "text": [
            "Found 4107 images belonging to 2 classes.\n",
            "Found 1473 images belonging to 2 classes.\n"
          ]
        },
        {
          "output_type": "stream",
          "name": "stderr",
          "text": [
            "/usr/local/lib/python3.7/dist-packages/keras/optimizer_v2/adam.py:105: UserWarning: The `lr` argument is deprecated, use `learning_rate` instead.\n",
            "  super(Adam, self).__init__(name, **kwargs)\n"
          ]
        },
        {
          "output_type": "stream",
          "name": "stdout",
          "text": [
            "Epoch 1/10\n",
            "65/65 [==============================] - 18s 257ms/step - loss: 1.1143 - accuracy: 0.6601 - val_loss: 0.6419 - val_accuracy: 0.8927\n",
            "Epoch 2/10\n",
            "65/65 [==============================] - 16s 248ms/step - loss: 0.8052 - accuracy: 0.6689 - val_loss: 0.4827 - val_accuracy: 0.8927\n",
            "Epoch 3/10\n",
            "65/65 [==============================] - 16s 246ms/step - loss: 0.7728 - accuracy: 0.6805 - val_loss: 0.3707 - val_accuracy: 0.8927\n",
            "Epoch 4/10\n",
            "65/65 [==============================] - 16s 245ms/step - loss: 0.7048 - accuracy: 0.6995 - val_loss: 0.3566 - val_accuracy: 0.8927\n",
            "Epoch 5/10\n",
            "65/65 [==============================] - 16s 245ms/step - loss: 0.6349 - accuracy: 0.7178 - val_loss: 0.3899 - val_accuracy: 0.8927\n",
            "Epoch 6/10\n",
            "65/65 [==============================] - 16s 243ms/step - loss: 0.6103 - accuracy: 0.7314 - val_loss: 0.4481 - val_accuracy: 0.8181\n",
            "Epoch 7/10\n",
            "65/65 [==============================] - 16s 243ms/step - loss: 0.6053 - accuracy: 0.7268 - val_loss: 0.4803 - val_accuracy: 0.7359\n",
            "Epoch 8/10\n",
            "65/65 [==============================] - 16s 245ms/step - loss: 0.5964 - accuracy: 0.7314 - val_loss: 0.5458 - val_accuracy: 0.7155\n",
            "Epoch 9/10\n",
            "65/65 [==============================] - 16s 243ms/step - loss: 0.5759 - accuracy: 0.7378 - val_loss: 0.5978 - val_accuracy: 0.6673\n",
            "Epoch 10/10\n",
            "65/65 [==============================] - 16s 246ms/step - loss: 0.5550 - accuracy: 0.7482 - val_loss: 0.6860 - val_accuracy: 0.6096\n"
          ]
        },
        {
          "output_type": "display_data",
          "data": {
            "image/png": "[encoded data removed]",
            "text/plain": [
              "<Figure size 432x288 with 1 Axes>"
            ]
          },
          "metadata": {
            "needs_background": "light"
          }
        },
        {
          "output_type": "display_data",
          "data": {
            "image/png": "[encoded data removed]",
            "text/plain": [
              "<Figure size 432x288 with 1 Axes>"
            ]
          },
          "metadata": {
            "needs_background": "light"
          }
        },
        {
          "output_type": "stream",
          "name": "stdout",
          "text": [
            "INFO:tensorflow:Assets written to: ./Reference_Data3/Model/Mesonet/assets\n"
          ]
        }
      ]
    },
    {
      "cell_type": "code",
      "metadata": {
        "id": "9iErYpr4CSWi"
      },
      "source": [],
      "execution_count": null,
      "outputs": []
    },
    {
      "cell_type": "code",
      "metadata": {
        "id": "1-boK3GZApME"
      },
      "source": [],
      "execution_count": null,
      "outputs": []
    },
    {
      "cell_type": "markdown",
      "metadata": {
        "id": "MYN_cSFNBi4r"
      },
      "source": [
        "# CNN + LSTM model"
      ]
    },
    {
      "cell_type": "code",
      "metadata": {
        "colab": {
          "base_uri": "https://localhost:8080/"
        },
        "id": "BGhx76g8C5Rl",
        "outputId": "f12485dd-425c-4fcd-ef06-e3d53329f5ac"
      },
      "source": [
        "!pip3 install face_recognition"
      ],
      "execution_count": null,
      "outputs": [
        {
          "output_type": "stream",
          "name": "stdout",
          "text": [
            "Collecting face_recognition\n",
            "  Downloading face_recognition-1.3.0-py2.py3-none-any.whl (15 kB)\n",
            "Collecting face-recognition-models>=0.3.0\n",
            "  Downloading face_recognition_models-0.3.0.tar.gz (100.1 MB)\n",
            "\u001b[K     |████████████████████████████████| 100.1 MB 20 kB/s \n",
            "\u001b[?25hRequirement already satisfied: dlib>=19.7 in /usr/local/lib/python3.7/dist-packages (from face_recognition) (19.18.0)\n",
            "Requirement already satisfied: Pillow in /usr/local/lib/python3.7/dist-packages (from face_recognition) (7.1.2)\n",
            "Requirement already satisfied: numpy in /usr/local/lib/python3.7/dist-packages (from face_recognition) (1.19.5)\n",
            "Requirement already satisfied: Click>=6.0 in /usr/local/lib/python3.7/dist-packages (from face_recognition) (7.1.2)\n",
            "Building wheels for collected packages: face-recognition-models\n",
            "  Building wheel for face-recognition-models (setup.py) ... \u001b[?25l\u001b[?25hdone\n",
            "  Created wheel for face-recognition-models: filename=face_recognition_models-0.3.0-py2.py3-none-any.whl size=100566185 sha256=91ef20eadefd89d5af0d5f581423f60c11a41ee4b2cea916bac894c0565e74c2\n",
            "  Stored in directory: /root/.cache/pip/wheels/d6/81/3c/884bcd5e1c120ff548d57c2ecc9ebf3281c9a6f7c0e7e7947a\n",
            "Successfully built face-recognition-models\n",
            "Installing collected packages: face-recognition-models, face-recognition\n",
            "Successfully installed face-recognition-1.3.0 face-recognition-models-0.3.0\n"
          ]
        }
      ]
    },
    {
      "cell_type": "code",
      "metadata": {
        "colab": {
          "base_uri": "https://localhost:8080/"
        },
        "id": "BJFyZ3eSETDM",
        "outputId": "fd316a1a-9117-433c-e200-591dc8514e83"
      },
      "source": [
        "#to load preprocessod video to memory\n",
        "import json\n",
        "import glob\n",
        "import numpy as np\n",
        "import cv2\n",
        "import copy\n",
        "import random\n",
        "video_files =  glob.glob('/content/drive/My Drive/Celeb_fake_face_only/*.mp4')\n",
        "video_files += glob.glob('/content/drive/My Drive/Celeb_real_face_only/*.mp4')\n",
        "\"\"\"video_files += glob.glob('/content/drive/My Drive/DFDC_FAKE_Face_only_data/*.mp4')\n",
        "video_files += glob.glob('/content/drive/My Drive/DFDC_REAL_Face_only_data/*.mp4')\n",
        "video_files += glob.glob('/content/drive/My Drive/FF_Face_only_data/*.mp4')\"\"\"\n",
        "random.shuffle(video_files)\n",
        "random.shuffle(video_files)\n",
        "frame_count = []\n",
        "for video_file in video_files:\n",
        "  cap = cv2.VideoCapture(video_file)\n",
        "  if(int(cap.get(cv2.CAP_PROP_FRAME_COUNT))<100):\n",
        "    video_files.remove(video_file)\n",
        "    continue\n",
        "  frame_count.append(int(cap.get(cv2.CAP_PROP_FRAME_COUNT)))\n",
        "print(\"frames are \" , frame_count)\n",
        "print(\"Total no of video: \" , len(frame_count))\n",
        "print('Average frame per video:',np.mean(frame_count))"
      ],
      "execution_count": null,
      "outputs": [
        {
          "output_type": "stream",
          "name": "stdout",
          "text": [
            "frames are  [148, 148, 148, 148, 148, 148, 148, 148, 148, 148, 148, 148, 148, 148, 148, 148, 148, 148, 148, 148, 148, 148, 134, 148, 148, 148, 148, 148, 148, 148, 148, 148, 148, 148, 148, 148, 148, 148, 148, 148, 148, 148, 148, 148, 148, 148, 148, 148, 148, 148, 148, 148, 148, 148, 148, 148, 148, 148, 148, 148, 148, 148, 148, 148, 148, 148, 148, 148, 148, 148, 148, 148, 148, 148, 148, 148, 148, 148, 148, 148, 148, 148, 148, 148, 148, 148, 148, 148, 148, 148, 148, 148, 148, 148, 148, 148, 148, 148, 148, 148, 148, 148, 148, 148, 148, 148, 148, 148, 148, 148, 148, 148, 148, 148, 148, 148, 148, 148, 148, 148, 148, 148, 148, 148, 148, 148, 148, 148, 148, 148, 148, 148, 148, 148, 148, 148, 148, 148, 148, 148, 148, 148, 148, 148, 148, 148, 148, 148, 148, 148, 148, 148, 148, 148, 148, 148, 148, 148, 148, 148, 148, 148, 148, 148, 148, 148, 148, 148, 148, 148, 148, 148, 148, 148, 148, 148, 148, 148, 148, 148, 148, 148, 148, 148, 148, 148, 148, 148, 148, 148, 148, 148, 148, 148, 148, 148, 148, 148, 148, 148, 148, 148, 148, 148, 148, 148, 148, 148, 148, 148, 148, 148, 148, 148, 148, 148, 148, 148, 148, 148, 148, 148, 148, 148, 148, 148, 148, 148, 148, 148, 148, 148, 148, 148, 148, 148, 148, 148, 148, 148, 148, 148, 148, 148, 148, 148, 148, 148, 148, 148, 148, 148, 148, 148, 124, 148, 148, 148, 148, 148, 148, 148, 148, 148, 148, 148, 148, 148, 148, 148, 148, 148, 148, 148, 148, 148, 148, 148, 148, 148, 148, 148, 148, 148, 148, 148, 148, 148, 148, 148, 148, 148, 148, 148, 148, 148, 148, 148, 148, 148, 148, 148, 148, 148, 148, 148, 148, 148, 148, 148, 148, 148, 148, 148, 148, 148, 148, 148, 148, 148, 148, 148, 148, 148, 148, 148, 148, 148, 148, 148, 148, 148, 148, 148, 148, 148, 148, 148, 148, 148, 148, 148, 148, 148, 148, 148, 148, 148, 148, 148, 148, 148, 148, 148, 148, 148, 148, 148, 148, 148, 148, 148, 148, 148, 148, 148, 148, 148, 148, 148, 148, 148, 148, 148, 148, 148, 148, 148, 148, 148, 148, 148, 148, 148, 148, 148, 148, 142, 148, 148, 148, 148, 148, 147, 148, 148, 148, 148, 148, 148, 148, 148, 148, 148, 148, 148, 148, 148, 148, 148, 148, 148, 148, 148, 148, 148, 148, 148, 148, 148, 148, 148, 148, 148, 148, 148, 148, 148, 148, 148, 148, 148, 148, 148, 148, 148, 148, 148, 148, 148, 148, 148, 148, 148, 148, 148, 148, 148, 148, 148, 148, 148, 148, 148, 148, 148, 148, 148, 148, 148, 148, 148, 148, 148, 148, 148, 148, 148, 148, 148, 148, 148, 148, 148, 148, 148, 148, 148, 148, 148, 148, 148, 148, 148, 148, 148, 148, 148, 148, 148, 148, 148, 148, 148, 148, 148, 148, 148, 148, 148, 148, 148, 148, 148, 148, 148, 148, 148, 148, 148, 148, 148, 148, 148, 148, 148, 148, 148, 148, 148, 148, 148, 148, 148, 148, 148, 148, 148, 148, 148, 148, 148, 148, 148, 148, 148, 148, 148, 148, 148, 146, 148, 148, 148, 148, 148, 148, 148, 148, 148, 148, 148, 148, 148, 148, 148, 148, 148, 148, 148, 148, 148, 148, 148, 148, 148, 148, 148, 148, 148, 148, 148, 148, 148, 148, 148, 148, 148, 148, 148, 148, 148, 148, 148, 148, 148, 148, 148, 148, 148, 148, 148, 148, 148, 148, 148, 148, 148, 148, 148, 148, 148, 148, 148, 148, 148, 148, 148, 148, 148, 148, 148, 148, 148, 148, 148, 148, 148, 148, 148, 148, 148, 148, 148, 148, 148, 148, 148, 148, 148, 148, 148, 148, 148, 148, 148, 148, 148, 148, 148, 148, 148, 148, 148, 148, 148, 148, 148, 148, 148, 148, 148, 148, 148, 148, 148, 148, 148, 148, 148, 148, 148, 148, 148, 148, 148, 148, 148, 148, 148, 148, 148, 148, 148, 148, 148, 148, 148, 148, 148, 148, 148, 148, 148, 148, 148, 148, 148, 148, 148, 148, 148, 148, 148, 148, 148, 148, 148, 148, 148, 148, 148, 148, 148, 148, 148, 148, 148, 148, 148, 148, 148, 148, 148, 148, 148, 148, 148, 148, 148, 148, 148, 148, 148, 148, 148, 148, 148, 148, 148, 148, 148, 148, 148, 148, 148, 148, 148, 148, 148, 148, 148, 148, 148, 148, 148, 148, 148, 148, 148, 148, 148, 148, 148, 148, 148, 148, 148, 148, 148, 148, 148, 148, 148, 148, 148, 148, 148, 148, 148, 148, 148, 148, 148, 148, 148, 148, 148, 148, 148, 148, 148, 148, 148, 148, 148, 148, 148, 148, 148, 148, 148, 148, 148, 148, 148, 148, 148, 148, 148, 148, 148, 148, 148, 148, 148, 148, 148, 148, 148, 148, 148, 148, 148, 148, 148, 148, 148, 148, 148, 148, 148, 148, 148, 148, 148, 148, 148, 148, 148, 148, 148, 148, 148, 148, 148, 148, 148, 148, 148, 148, 148, 148, 148, 148, 148, 148, 148, 148, 148, 148, 148, 148, 148, 148, 148, 148, 148, 148, 148, 148, 148, 148, 148, 148, 148, 148, 148, 148, 148, 148, 148, 148, 148, 148, 147, 148, 148, 148, 148, 148, 148, 148, 148, 148, 148, 148, 148, 148, 148, 148, 148, 148, 148, 148, 148, 148, 148, 148, 148, 148, 148, 148, 148, 148, 148, 148, 148, 148, 148, 148, 148, 148, 148, 148, 148, 148, 148, 148, 148, 148, 148, 148, 148, 148, 148, 148, 148, 148, 148, 148, 148, 148, 148, 148, 148, 148, 148, 148, 148, 148, 148, 148, 148, 148, 148, 148, 148, 148, 148, 148, 148, 148, 148, 148, 148, 148, 148, 148, 148, 148, 148, 148, 148, 148, 146, 148, 148, 148, 148, 148, 148, 148, 148, 148, 148, 148, 148, 148, 148, 148, 148, 148, 148, 148, 148, 148, 148, 148, 148, 148, 148, 148, 148, 148, 148, 148, 148, 148, 148, 148, 148, 148, 148, 148, 148, 148, 148, 148, 148, 148, 148, 148, 148, 148, 148, 148, 148, 148, 148, 148, 148, 148, 148, 148, 148, 148, 148, 148, 148, 148, 148, 148, 148, 148, 148, 148, 148, 148, 148, 148, 148, 148, 148, 148, 148, 148, 148, 148, 148, 148, 148, 148, 148, 148, 148, 148, 148, 148, 148, 148, 148, 148, 148, 148, 148, 148, 148, 148, 148, 148, 148, 148, 148, 148, 148, 148, 148, 148, 148, 148, 148, 148, 148, 148, 148, 148, 148, 148, 148, 148, 148, 148, 148, 148, 148, 148, 148, 148, 148, 148, 148, 148, 148, 148, 148, 148, 148, 148, 148, 148, 148, 148, 148, 148, 148, 148, 148, 148, 148, 148, 148, 148, 148, 148, 148, 148, 148, 148, 148, 148, 148, 148, 148, 148, 148, 148, 148, 148, 148, 148, 148, 148, 148, 148, 148, 148, 148, 148, 148, 148, 148, 148, 148, 148, 148, 148, 148, 148, 148, 148, 148, 148, 148, 148, 148, 148, 148]\n",
            "Total no of video:  1168\n",
            "Average frame per video: 147.95719178082192\n"
          ]
        }
      ]
    },
    {
      "cell_type": "code",
      "metadata": {
        "id": "V__G-7MmEeml"
      },
      "source": [
        "# load the video name and labels from csv\n",
        "import torch\n",
        "import torchvision\n",
        "from torchvision import transforms\n",
        "from torch.utils.data import DataLoader\n",
        "from torch.utils.data.dataset import Dataset\n",
        "import os\n",
        "import numpy as np\n",
        "import cv2\n",
        "import matplotlib.pyplot as plt\n",
        "import face_recognition\n",
        "class video_dataset(Dataset):\n",
        "    def __init__(self,video_names,labels,sequence_length = 60,transform = None):\n",
        "        self.video_names = video_names\n",
        "        self.labels = labels\n",
        "        self.transform = transform\n",
        "        self.count = sequence_length\n",
        "    def __len__(self):\n",
        "        return len(self.video_names)\n",
        "    def __getitem__(self,idx):\n",
        "        video_path = self.video_names[idx]\n",
        "        frames = []\n",
        "        a = int(100/self.count)\n",
        "        first_frame = np.random.randint(0,a)\n",
        "        temp_video = video_path.split('/')[-1]\n",
        "        #print(temp_video)\n",
        "        label = self.labels.iloc[(labels.loc[labels[\"file\"] == temp_video].index.values[0]),1]\n",
        "        if(label == 'FAKE'):\n",
        "          label = 0\n",
        "        if(label == 'REAL'):\n",
        "          label = 1\n",
        "        for i,frame in enumerate(self.frame_extract(video_path)):\n",
        "          frames.append(self.transform(frame))\n",
        "          if(len(frames) == self.count):\n",
        "            break\n",
        "        frames = torch.stack(frames)\n",
        "        frames = frames[:self.count]\n",
        "        #print(\"length:\" , len(frames), \"label\",label)\n",
        "        return frames,label\n",
        "    def frame_extract(self,path):\n",
        "      vidObj = cv2.VideoCapture(path)\n",
        "      success = 1\n",
        "      while success:\n",
        "          success, image = vidObj.read()\n",
        "          if success:\n",
        "              yield image\n",
        "#plot the image\n",
        "def im_plot(tensor):\n",
        "    image = tensor.cpu().numpy().transpose(1,2,0)\n",
        "    b,g,r = cv2.split(image)\n",
        "    image = cv2.merge((r,g,b))\n",
        "    image = image*[0.22803, 0.22145, 0.216989] +  [0.43216, 0.394666, 0.37645]\n",
        "    image = image*255.0\n",
        "    plt.imshow(image.astype(int))\n",
        "    plt.show()"
      ],
      "execution_count": null,
      "outputs": []
    },
    {
      "cell_type": "code",
      "metadata": {
        "id": "mp2vG_qZFg6S"
      },
      "source": [
        "#count the number of fake and real videos\n",
        "def number_of_real_and_fake_videos(data_list):\n",
        "  header_list = [\"file\",\"label\"]\n",
        "  lab = pd.read_csv('Gobal_metadata.csv',names=header_list)\n",
        "  fake = 0\n",
        "  real = 0\n",
        "  for i in data_list:\n",
        "    temp_video = i.split('/')[-1]\n",
        "    label = lab.iloc[(labels.loc[labels[\"file\"] == temp_video].index.values[0]),1]\n",
        "    if(label == 'FAKE'):\n",
        "      fake+=1\n",
        "    if(label == 'REAL'):\n",
        "      real+=1\n",
        "  return real,fake"
      ],
      "execution_count": null,
      "outputs": []
    },
    {
      "cell_type": "code",
      "metadata": {
        "colab": {
          "base_uri": "https://localhost:8080/",
          "height": 410
        },
        "id": "qELIt3rAFhnz",
        "outputId": "bdbbe233-0764-4316-9ba2-58ec52832b7d"
      },
      "source": [
        "# load the labels and video in data loader\n",
        "import random\n",
        "import pandas as pd\n",
        "from sklearn.model_selection import train_test_split\n",
        "\n",
        "header_list = [\"file\",\"label\"]\n",
        "labels = pd.read_csv('Gobal_metadata.csv',names=header_list)\n",
        "#print(labels)\n",
        "train_videos = video_files[:int(0.8*len(video_files))]\n",
        "valid_videos = video_files[int(0.8*len(video_files)):]\n",
        "print(\"train : \" , len(train_videos))\n",
        "print(\"test : \" , len(valid_videos))\n",
        "# train_videos,valid_videos = train_test_split(data,test_size = 0.2)\n",
        "# print(train_videos)\n",
        "\n",
        "print(\"TRAIN: \", \"Real:\",number_of_real_and_fake_videos(train_videos)[0],\" Fake:\",number_of_real_and_fake_videos(train_videos)[1])\n",
        "print(\"TEST: \", \"Real:\",number_of_real_and_fake_videos(valid_videos)[0],\" Fake:\",number_of_real_and_fake_videos(valid_videos)[1])\n",
        "\n",
        "\n",
        "im_size = 112\n",
        "mean = [0.485, 0.456, 0.406]\n",
        "std = [0.229, 0.224, 0.225]\n",
        "\n",
        "train_transforms = transforms.Compose([\n",
        "                                        transforms.ToPILImage(),\n",
        "                                        transforms.Resize((im_size,im_size)),\n",
        "                                        transforms.ToTensor(),\n",
        "                                        transforms.Normalize(mean,std)])\n",
        "\n",
        "test_transforms = transforms.Compose([\n",
        "                                        transforms.ToPILImage(),\n",
        "                                        transforms.Resize((im_size,im_size)),\n",
        "                                        transforms.ToTensor(),\n",
        "                                        transforms.Normalize(mean,std)])\n",
        "train_data = video_dataset(train_videos,labels,sequence_length = 10,transform = train_transforms)\n",
        "#print(train_data)\n",
        "val_data = video_dataset(valid_videos,labels,sequence_length = 10,transform = train_transforms)\n",
        "train_loader = DataLoader(train_data,batch_size = 4,shuffle = True,num_workers = 4)\n",
        "valid_loader = DataLoader(val_data,batch_size = 4,shuffle = True,num_workers = 4)\n",
        "image,label = train_data[0]\n",
        "im_plot(image[0,:,:,:])"
      ],
      "execution_count": null,
      "outputs": [
        {
          "output_type": "stream",
          "name": "stdout",
          "text": [
            "train :  934\n",
            "test :  234\n",
            "TRAIN:  Real: 467  Fake: 467\n"
          ]
        },
        {
          "output_type": "stream",
          "name": "stderr",
          "text": [
            "/usr/local/lib/python3.7/dist-packages/torch/utils/data/dataloader.py:481: UserWarning: This DataLoader will create 4 worker processes in total. Our suggested max number of worker in current system is 2, which is smaller than what this DataLoader is going to create. Please be aware that excessive worker creation might get DataLoader running slow or even freeze, lower the worker number to avoid potential slowness/freeze if necessary.\n",
            "  cpuset_checked))\n",
            "Clipping input data to the valid range for imshow with RGB data ([0..1] for floats or [0..255] for integers).\n"
          ]
        },
        {
          "output_type": "stream",
          "name": "stdout",
          "text": [
            "TEST:  Real: 121  Fake: 113\n"
          ]
        },
        {
          "output_type": "display_data",
          "data": {
            "image/png": "[encoded data removed]",
            "text/plain": [
              "<Figure size 432x288 with 1 Axes>"
            ]
          },
          "metadata": {
            "needs_background": "light"
          }
        }
      ]
    },
    {
      "cell_type": "code",
      "metadata": {
        "id": "-IjulX0cFyCc"
      },
      "source": [
        "#Model with feature visualization\n",
        "from torch import nn\n",
        "from torchvision import models\n",
        "class Model(nn.Module):\n",
        "    def __init__(self, num_classes,latent_dim= 2048, lstm_layers=1 , hidden_dim = 2048, bidirectional = False):\n",
        "        super(Model, self).__init__()\n",
        "        model = models.resnext50_32x4d(pretrained = True) #Residual Network CNN\n",
        "        self.model = nn.Sequential(*list(model.children())[:-2])\n",
        "        self.lstm = nn.LSTM(latent_dim,hidden_dim, lstm_layers,  bidirectional)\n",
        "        self.relu = nn.LeakyReLU()\n",
        "        self.dp = nn.Dropout(0.4)\n",
        "        self.linear1 = nn.Linear(2048,num_classes)\n",
        "        self.avgpool = nn.AdaptiveAvgPool2d(1)\n",
        "    def forward(self, x):\n",
        "        batch_size,seq_length, c, h, w = x.shape\n",
        "        x = x.view(batch_size * seq_length, c, h, w)\n",
        "        fmap = self.model(x)\n",
        "        x = self.avgpool(fmap)\n",
        "        x = x.view(batch_size,seq_length,2048)\n",
        "        x_lstm,_ = self.lstm(x,None)\n",
        "        return fmap,self.dp(self.linear1(torch.mean(x_lstm,dim = 1)))"
      ],
      "execution_count": null,
      "outputs": []
    },
    {
      "cell_type": "code",
      "metadata": {
        "colab": {
          "base_uri": "https://localhost:8080/",
          "height": 66,
          "referenced_widgets": [
            "78431e82cd16432db045ffd81458cff7",
            "e610ea16eb6b48c384ae9c738b6f2da1",
            "d8daf2ea9bec458ab46b804d924f9f91",
            "615c2552211743c8b96ff6188bba7eb2",
            "6cba952b22cf4cf8872d25028a5a7f1b",
            "dd47377d44df42eb8368e02b1ef3e51e",
            "0b54cdb2a76246b78f07b783c151b438",
            "bdd823b44aca42dbb85bd4b9cc3a8c01",
            "98722883d21d44dabc47963b570eb100",
            "af826485faa34d9e94b48240b82491be",
            "aa69cd5c235843c89a0f3d7d0be1bb9d"
          ]
        },
        "id": "kofUjXAmHTdA",
        "outputId": "28d2cf19-3ea2-45ce-f9f6-42e2fdf394aa"
      },
      "source": [
        "model = Model(2).cuda()\n",
        "a,b = model(torch.from_numpy(np.empty((1,20,3,112,112))).type(torch.cuda.FloatTensor))"
      ],
      "execution_count": null,
      "outputs": [
        {
          "output_type": "stream",
          "name": "stderr",
          "text": [
            "Downloading: \"https://download.pytorch.org/models/resnext50_32x4d-7cdf4587.pth\" to /root/.cache/torch/hub/checkpoints/resnext50_32x4d-7cdf4587.pth\n"
          ]
        },
        {
          "output_type": "display_data",
          "data": {
            "application/vnd.jupyter.widget-view+json": {
              "model_id": "78431e82cd16432db045ffd81458cff7",
              "version_minor": 0,
              "version_major": 2
            },
            "text/plain": [
              "  0%|          | 0.00/95.8M [00:00<?, ?B/s]"
            ]
          },
          "metadata": {}
        }
      ]
    },
    {
      "cell_type": "code",
      "metadata": {
        "id": "JJBQRty4F8-k"
      },
      "source": [
        "import torch\n",
        "from torch.autograd import Variable\n",
        "import time\n",
        "import os\n",
        "import sys\n",
        "import os\n",
        "def train_epoch(epoch, num_epochs, data_loader, model, criterion, optimizer):\n",
        "    model.train()\n",
        "    losses = AverageMeter()\n",
        "    accuracies = AverageMeter()\n",
        "    t = []\n",
        "    for i, (inputs, targets) in enumerate(data_loader):\n",
        "        if torch.cuda.is_available():\n",
        "            targets = targets.type(torch.cuda.LongTensor)\n",
        "            inputs = inputs.cuda()\n",
        "        _,outputs = model(inputs)\n",
        "        loss  = criterion(outputs,targets.type(torch.cuda.LongTensor))\n",
        "        acc = calculate_accuracy(outputs, targets.type(torch.cuda.LongTensor))\n",
        "        losses.update(loss.item(), inputs.size(0))\n",
        "        accuracies.update(acc, inputs.size(0))\n",
        "        optimizer.zero_grad()\n",
        "        loss.backward()\n",
        "        optimizer.step()\n",
        "        sys.stdout.write(\n",
        "                \"\\r[Epoch %d/%d] [Batch %d / %d] [Loss: %f, Acc: %.2f%%]\"\n",
        "                % (\n",
        "                    epoch,\n",
        "                    num_epochs,\n",
        "                    i,\n",
        "                    len(data_loader),\n",
        "                    losses.avg,\n",
        "                    accuracies.avg))\n",
        "    torch.save(model.state_dict(),'/content/checkpoint.pt')\n",
        "    return losses.avg,accuracies.avg\n",
        "def test(epoch,model, data_loader ,criterion):\n",
        "    print('Testing')\n",
        "    model.eval()\n",
        "    losses = AverageMeter()\n",
        "    accuracies = AverageMeter()\n",
        "    pred = []\n",
        "    true = []\n",
        "    count = 0\n",
        "    with torch.no_grad():\n",
        "        for i, (inputs, targets) in enumerate(data_loader):\n",
        "            if torch.cuda.is_available():\n",
        "                targets = targets.cuda().type(torch.cuda.FloatTensor)\n",
        "                inputs = inputs.cuda()\n",
        "            _,outputs = model(inputs)\n",
        "            loss = torch.mean(criterion(outputs, targets.type(torch.cuda.LongTensor)))\n",
        "            acc = calculate_accuracy(outputs,targets.type(torch.cuda.LongTensor))\n",
        "            _,p = torch.max(outputs,1)\n",
        "            true += (targets.type(torch.cuda.LongTensor)).detach().cpu().numpy().reshape(len(targets)).tolist()\n",
        "            pred += p.detach().cpu().numpy().reshape(len(p)).tolist()\n",
        "            losses.update(loss.item(), inputs.size(0))\n",
        "            accuracies.update(acc, inputs.size(0))\n",
        "            sys.stdout.write(\n",
        "                    \"\\r[Batch %d / %d]  [Loss: %f, Acc: %.2f%%]\"\n",
        "                    % (\n",
        "                        i,\n",
        "                        len(data_loader),\n",
        "                        losses.avg,\n",
        "                        accuracies.avg\n",
        "                        )\n",
        "                    )\n",
        "        print('\\nAccuracy {}'.format(accuracies.avg))\n",
        "    return true,pred,losses.avg,accuracies.avg\n",
        "class AverageMeter(object):\n",
        "    \"\"\"Computes and stores the average and current value\"\"\"\n",
        "    def __init__(self):\n",
        "        self.reset()\n",
        "    def reset(self):\n",
        "        self.val = 0\n",
        "        self.avg = 0\n",
        "        self.sum = 0\n",
        "        self.count = 0\n",
        "\n",
        "    def update(self, val, n=1):\n",
        "        self.val = val\n",
        "        self.sum += val * n\n",
        "        self.count += n\n",
        "        self.avg = self.sum / self.count\n",
        "def calculate_accuracy(outputs, targets):\n",
        "    batch_size = targets.size(0)\n",
        "\n",
        "    _, pred = outputs.topk(1, 1, True)\n",
        "    pred = pred.t()\n",
        "    correct = pred.eq(targets.view(1, -1))\n",
        "    n_correct_elems = correct.float().sum().item()\n",
        "    return 100* n_correct_elems / batch_size"
      ],
      "execution_count": null,
      "outputs": []
    },
    {
      "cell_type": "code",
      "metadata": {
        "id": "FwkTKm4KGLHz"
      },
      "source": [
        "import seaborn as sn\n",
        "#Output confusion matrix\n",
        "def print_confusion_matrix(y_true, y_pred):\n",
        "    cm = confusion_matrix(y_true, y_pred)\n",
        "    print('True positive = ', cm[0][0])\n",
        "    print('False positive = ', cm[0][1])\n",
        "    print('False negative = ', cm[1][0])\n",
        "    print('True negative = ', cm[1][1])\n",
        "    print('\\n')\n",
        "    df_cm = pd.DataFrame(cm, range(2), range(2))\n",
        "    sn.set(font_scale=1.4) # for label size\n",
        "    sn.heatmap(df_cm, annot=True, annot_kws={\"size\": 16}) # font size\n",
        "    plt.ylabel('Actual label', size = 20)\n",
        "    plt.xlabel('Predicted label', size = 20)\n",
        "    plt.xticks(np.arange(2), ['Fake', 'Real'], size = 16)\n",
        "    plt.yticks(np.arange(2), ['Fake', 'Real'], size = 16)\n",
        "    plt.ylim([2, 0])\n",
        "    plt.show()\n",
        "    calculated_acc = (cm[0][0]+cm[1][1])/(cm[0][0]+cm[0][1]+cm[1][0]+ cm[1][1])\n",
        "    print(\"Calculated Accuracy\",calculated_acc*100)"
      ],
      "execution_count": null,
      "outputs": []
    },
    {
      "cell_type": "code",
      "metadata": {
        "id": "WSmDCr2fGRD3"
      },
      "source": [
        "def plot_loss(train_loss_avg,test_loss_avg,num_epochs):\n",
        "  loss_train = train_loss_avg\n",
        "  loss_val = test_loss_avg\n",
        "  print(num_epochs)\n",
        "  epochs = range(1,num_epochs+1)\n",
        "  plt.plot(epochs, loss_train, 'g', label='Training loss')\n",
        "  plt.plot(epochs, loss_val, 'b', label='validation loss')\n",
        "  plt.title('Training and Validation loss')\n",
        "  plt.xlabel('Epochs')\n",
        "  plt.ylabel('Loss')\n",
        "  plt.legend()\n",
        "  plt.show()\n",
        "def plot_accuracy(train_accuracy,test_accuracy,num_epochs):\n",
        "  loss_train = train_accuracy\n",
        "  loss_val = test_accuracy\n",
        "  epochs = range(1,num_epochs+1)\n",
        "  plt.plot(epochs, loss_train, 'g', label='Training accuracy')\n",
        "  plt.plot(epochs, loss_val, 'b', label='validation accuracy')\n",
        "  plt.title('Training and Validation accuracy')\n",
        "  plt.xlabel('Epochs')\n",
        "  plt.ylabel('Accuracy')\n",
        "  plt.legend()\n",
        "  plt.show()"
      ],
      "execution_count": null,
      "outputs": []
    },
    {
      "cell_type": "code",
      "metadata": {
        "colab": {
          "base_uri": "https://localhost:8080/",
          "height": 1000
        },
        "id": "Q75JA6pMGXeP",
        "outputId": "423476a1-f43f-4dc7-df28-677952766d5c"
      },
      "source": [
        "from sklearn.metrics import confusion_matrix\n",
        "#learning rate\n",
        "lr = 1e-5#0.001\n",
        "#number of epochs\n",
        "num_epochs = 20\n",
        "\n",
        "optimizer = torch.optim.Adam(model.parameters(), lr= lr,weight_decay = 1e-5)\n",
        "\n",
        "#class_weights = torch.from_numpy(np.asarray([1,15])).type(torch.FloatTensor).cuda()\n",
        "#criterion = nn.CrossEntropyLoss(weight = class_weights).cuda()\n",
        "criterion = nn.CrossEntropyLoss().cuda()\n",
        "train_loss_avg =[]\n",
        "train_accuracy = []\n",
        "test_loss_avg = []\n",
        "test_accuracy = []\n",
        "for epoch in range(1,num_epochs+1):\n",
        "    l, acc = train_epoch(epoch,num_epochs,train_loader,model,criterion,optimizer)\n",
        "    train_loss_avg.append(l)\n",
        "    train_accuracy.append(acc)\n",
        "    true,pred,tl,t_acc = test(epoch,model,valid_loader,criterion)\n",
        "    test_loss_avg.append(tl)\n",
        "    test_accuracy.append(t_acc)\n",
        "plot_loss(train_loss_avg,test_loss_avg,len(train_loss_avg))\n",
        "plot_accuracy(train_accuracy,test_accuracy,len(train_accuracy))\n",
        "print(confusion_matrix(true,pred))\n",
        "print_confusion_matrix(true,pred)"
      ],
      "execution_count": null,
      "outputs": [
        {
          "output_type": "stream",
          "name": "stderr",
          "text": [
            "/usr/local/lib/python3.7/dist-packages/torch/utils/data/dataloader.py:481: UserWarning: This DataLoader will create 4 worker processes in total. Our suggested max number of worker in current system is 2, which is smaller than what this DataLoader is going to create. Please be aware that excessive worker creation might get DataLoader running slow or even freeze, lower the worker number to avoid potential slowness/freeze if necessary.\n",
            "  cpuset_checked))\n"
          ]
        },
        {
          "output_type": "stream",
          "name": "stdout",
          "text": [
            "[Epoch 1/20] [Batch 233 / 234] [Loss: 0.693308, Acc: 53.43%]Testing\n",
            "[Batch 58 / 59]  [Loss: 0.651758, Acc: 64.10%]\n",
            "Accuracy 64.1025641025641\n",
            "[Epoch 2/20] [Batch 233 / 234] [Loss: 0.547564, Acc: 72.59%]Testing\n",
            "[Batch 58 / 59]  [Loss: 0.461851, Acc: 76.50%]\n",
            "Accuracy 76.4957264957265\n",
            "[Epoch 3/20] [Batch 233 / 234] [Loss: 0.477418, Acc: 77.52%]Testing\n",
            "[Batch 58 / 59]  [Loss: 0.458580, Acc: 79.06%]\n",
            "Accuracy 79.05982905982906\n",
            "[Epoch 4/20] [Batch 233 / 234] [Loss: 0.383294, Acc: 80.73%]Testing\n",
            "[Batch 58 / 59]  [Loss: 0.450476, Acc: 80.34%]\n",
            "Accuracy 80.34188034188034\n",
            "[Epoch 5/20] [Batch 233 / 234] [Loss: 0.426948, Acc: 80.19%]Testing\n",
            "[Batch 58 / 59]  [Loss: 0.346014, Acc: 85.47%]\n",
            "Accuracy 85.47008547008546\n",
            "[Epoch 6/20] [Batch 233 / 234] [Loss: 0.367293, Acc: 82.66%]Testing\n",
            "[Batch 58 / 59]  [Loss: 0.417227, Acc: 84.19%]\n",
            "Accuracy 84.1880341880342\n",
            "[Epoch 7/20] [Batch 233 / 234] [Loss: 0.352507, Acc: 82.98%]Testing\n",
            "[Batch 58 / 59]  [Loss: 0.410397, Acc: 82.48%]\n",
            "Accuracy 82.47863247863248\n",
            "[Epoch 8/20] [Batch 233 / 234] [Loss: 0.383196, Acc: 81.48%]Testing\n",
            "[Batch 58 / 59]  [Loss: 0.412794, Acc: 80.77%]\n",
            "Accuracy 80.76923076923077\n",
            "[Epoch 9/20] [Batch 233 / 234] [Loss: 0.282904, Acc: 87.26%]Testing\n",
            "[Batch 58 / 59]  [Loss: 0.381019, Acc: 85.47%]\n",
            "Accuracy 85.47008547008546\n",
            "[Epoch 10/20] [Batch 233 / 234] [Loss: 0.311157, Acc: 84.58%]Testing\n",
            "[Batch 58 / 59]  [Loss: 0.452902, Acc: 80.77%]\n",
            "Accuracy 80.76923076923077\n",
            "[Epoch 11/20] [Batch 233 / 234] [Loss: 0.345752, Acc: 83.40%]Testing\n",
            "[Batch 58 / 59]  [Loss: 0.477787, Acc: 79.49%]\n",
            "Accuracy 79.48717948717949\n",
            "[Epoch 12/20] [Batch 233 / 234] [Loss: 0.288748, Acc: 85.33%]Testing\n",
            "[Batch 58 / 59]  [Loss: 0.416015, Acc: 80.77%]\n",
            "Accuracy 80.76923076923077\n",
            "[Epoch 13/20] [Batch 233 / 234] [Loss: 0.280326, Acc: 86.08%]Testing\n",
            "[Batch 58 / 59]  [Loss: 0.352912, Acc: 86.32%]\n",
            "Accuracy 86.32478632478633\n",
            "[Epoch 14/20] [Batch 233 / 234] [Loss: 0.314821, Acc: 84.37%]Testing\n",
            "[Batch 58 / 59]  [Loss: 0.381590, Acc: 85.04%]\n",
            "Accuracy 85.04273504273505\n",
            "[Epoch 15/20] [Batch 233 / 234] [Loss: 0.283696, Acc: 85.55%]Testing\n",
            "[Batch 58 / 59]  [Loss: 0.346459, Acc: 84.19%]\n",
            "Accuracy 84.1880341880342\n",
            "[Epoch 16/20] [Batch 233 / 234] [Loss: 0.285479, Acc: 85.65%]Testing\n",
            "[Batch 58 / 59]  [Loss: 0.439665, Acc: 82.05%]\n",
            "Accuracy 82.05128205128206\n",
            "[Epoch 17/20] [Batch 233 / 234] [Loss: 0.293504, Acc: 87.04%]Testing\n",
            "[Batch 58 / 59]  [Loss: 0.516124, Acc: 80.34%]\n",
            "Accuracy 80.34188034188034\n",
            "[Epoch 18/20] [Batch 233 / 234] [Loss: 0.272146, Acc: 85.76%]Testing\n",
            "[Batch 58 / 59]  [Loss: 0.520970, Acc: 82.91%]\n",
            "Accuracy 82.90598290598291\n",
            "[Epoch 19/20] [Batch 233 / 234] [Loss: 0.266904, Acc: 87.04%]Testing\n",
            "[Batch 58 / 59]  [Loss: 0.449236, Acc: 82.05%]\n",
            "Accuracy 82.05128205128206\n",
            "[Epoch 20/20] [Batch 233 / 234] [Loss: 0.242189, Acc: 88.33%]Testing\n",
            "[Batch 58 / 59]  [Loss: 0.618547, Acc: 77.78%]\n",
            "Accuracy 77.77777777777777\n",
            "20\n"
          ]
        },
        {
          "output_type": "display_data",
          "data": {
            "image/png": "[encoded data removed]",
            "text/plain": [
              "<Figure size 432x288 with 1 Axes>"
            ]
          },
          "metadata": {
            "needs_background": "light"
          }
        },
        {
          "output_type": "display_data",
          "data": {
            "image/png": "[encoded data removed]",
            "text/plain": [
              "<Figure size 432x288 with 1 Axes>"
            ]
          },
          "metadata": {
            "needs_background": "light"
          }
        },
        {
          "output_type": "stream",
          "name": "stdout",
          "text": [
            "[[109   4]\n",
            " [ 48  73]]\n",
            "True positive =  109\n",
            "False positive =  4\n",
            "False negative =  48\n",
            "True negative =  73\n",
            "\n",
            "\n"
          ]
        },
        {
          "output_type": "display_data",
          "data": {
            "image/png": "[encoded data removed]",
            "text/plain": [
              "<Figure size 432x288 with 2 Axes>"
            ]
          },
          "metadata": {}
        },
        {
          "output_type": "stream",
          "name": "stdout",
          "text": [
            "Calculated Accuracy 77.77777777777779\n"
          ]
        }
      ]
    }
  ]
}